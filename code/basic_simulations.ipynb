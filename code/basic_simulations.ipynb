{
 "cells": [
  {
   "cell_type": "code",
   "id": "initial_id",
   "metadata": {
    "collapsed": true,
    "ExecuteTime": {
     "end_time": "2024-06-11T10:56:08.180263Z",
     "start_time": "2024-06-11T10:56:08.163314Z"
    }
   },
   "source": [
    "from gsmmutils import ModelValidator, MyModel\n",
    "import gsmmutils\n",
    "gsmmutils.model.model_validator.DATA_PATH =  \"../results\"\n",
    "import seaborn as sns\n",
    "from gsmmutils import DATA_PATH\n",
    "gsmmutils.DATA_PATH = r\"C:\\Users\\Bisbii\\PythonProjects\\GSMMutils\\data\"\n",
    "from os.path import join\n",
    "import matplotlib.pyplot as plt\n",
    "sns.set(rc={'figure.figsize':(35,8.27)})"
   ],
   "outputs": [],
   "execution_count": 2
  },
  {
   "metadata": {
    "ExecuteTime": {
     "end_time": "2024-06-11T10:56:34.818017Z",
     "start_time": "2024-06-11T10:56:10.073837Z"
    }
   },
   "cell_type": "code",
   "source": [
    "ng = MyModel(join(DATA_PATH, 'models/model_ng.xml'), 'e_Biomass__cytop')\n",
    "ng.set_prism_reaction(\"PRISM_solar_litho__extr\")\n",
    "print(ng.slim_optimize())\n",
    "ds = MyModel(join(DATA_PATH, 'models/model_ds.xml'), 'e_Biomass__cytop')\n",
    "ds.set_prism_reaction(\"PRISM_white_LED__extr\")\n",
    "print(ds.slim_optimize())\n",
    "pl = MyModel(join(DATA_PATH, 'models/model_pl.xml'), 'e_Biomass__cytop')\n",
    "pl.set_prism_reaction(\"PRISM_fluorescent_cool_215W__extr\")\n",
    "print(pl.slim_optimize())"
   ],
   "id": "a23e51f3aa82ee8f",
   "outputs": [
    {
     "name": "stdout",
     "output_type": "stream",
     "text": [
      "Loading\n",
      "\n",
      "Reactions: 4498\n",
      "Metabolites: 3799\n",
      "Genes: 1332\n",
      "Model loaded\n",
      "0.021383004132942363\n",
      "Loading\n",
      "\n",
      "Reactions: 4510\n",
      "Metabolites: 3668\n",
      "Genes: 1696\n",
      "Model loaded\n",
      "0.19376008818033733\n",
      "Loading\n",
      "\n",
      "Reactions: 4771\n",
      "Metabolites: 4216\n",
      "Genes: 1350\n",
      "Model loaded\n",
      "0.13531697467297749\n"
     ]
    }
   ],
   "execution_count": 3
  },
  {
   "metadata": {},
   "cell_type": "markdown",
   "source": "N. gaditana",
   "id": "7b7fcc8099016623"
  },
  {
   "metadata": {
    "ExecuteTime": {
     "end_time": "2024-06-11T10:57:23.447962Z",
     "start_time": "2024-06-11T10:57:20.956063Z"
    }
   },
   "cell_type": "code",
   "source": [
    "carbon_sources = [\"C00267\", \"C00469\", \"C00181\",  \"C02336\", \"C00089\", \"C00962\"]\n",
    "\n",
    "for carbon_source in carbon_sources:\n",
    "    with ng as model:\n",
    "        model.exchanges.EX_C00205__dra.lower_bound = 0\n",
    "        model.exchanges.EX_C00244__dra.lower_bound = -10\n",
    "        model.exchanges.get_by_id(f\"EX_{carbon_source}__dra\").lower_bound = -1\n",
    "        print(\"Heterotrophic with \", model.metabolites.get_by_id(carbon_source+\"__extr\").name, model.slim_optimize())\n",
    "        \n",
    "with ng as model:\n",
    "    model.exchanges.EX_C00267__dra.lower_bound = -1\n",
    "    model.exchanges.EX_C00244__dra.lower_bound = -10\n",
    "    print(f\"Mixotrophic with glucose: {model.slim_optimize()}\")\n",
    "\n",
    "with ng as model:\n",
    "    model.exchanges.EX_C00244__dra.lower_bound = 0\n",
    "    model.exchanges.EX_C00088__dra.lower_bound = -0.133\n",
    "    print(f\"Autotrophic with nitrite: {model.slim_optimize()}\")\n",
    "    \n",
    "with ng as model:\n",
    "    model.exchanges.EX_C00244__dra.lower_bound = 0\n",
    "    model.exchanges.EX_C00088__dra.lower_bound = 0\n",
    "    model.exchanges.EX_C00014__dra.lower_bound = -1\n",
    "    print(f\"Autotrophic with ammonia: {model.slim_optimize()}\")\n",
    "    \n",
    "    \n",
    "with ng as model:\n",
    "    model.exchanges.EX_C00244__dra.lower_bound = 0\n",
    "    model.exchanges.EX_C00086__dra.lower_bound = -1\n",
    "    print(f\"Autotrophic with urea: {model.slim_optimize()}\")"
   ],
   "id": "733ce8c2d51a60b0",
   "outputs": [
    {
     "name": "stdout",
     "output_type": "stream",
     "text": [
      "Heterotrophic with:  alpha-D-Glucose 0.07118099502077153\n",
      "Heterotrophic with:  Ethanol 0.025867744517066978\n",
      "Heterotrophic with:  D-Xylose 0.056443767592535526\n",
      "Heterotrophic with:  beta-D-Fructose 0.07118099502077144\n",
      "Heterotrophic with:  Sucrose 0.15079131839926585\n",
      "Heterotrophic with:  beta-D-Galactose 0.0711809950096601\n",
      "Mixotrophic with glucose: 0.14968102893059698\n",
      "Autotrophic with nitrite: 0.021383004132942324\n",
      "Autotrophic with ammonia: 0.021383004132942404\n",
      "Autotrophic with urea: 0.02254653333932027\n"
     ]
    }
   ],
   "execution_count": 7
  },
  {
   "metadata": {},
   "cell_type": "markdown",
   "source": "P. lutheri",
   "id": "be050877294bca19"
  },
  {
   "metadata": {
    "ExecuteTime": {
     "end_time": "2024-06-11T10:57:52.337150Z",
     "start_time": "2024-06-11T10:57:51.149837Z"
    }
   },
   "cell_type": "code",
   "source": [
    "carbon_sources = [\"C00267\", \"C00033\", \"C00116\",  \"C00089\"]\n",
    "# Mixotrophic\n",
    "with pl as model:\n",
    "    for carbon_source in carbon_sources:\n",
    "        model.exchanges.get_by_id(f\"EX_{carbon_source}__dra\").lower_bound = -1\n",
    "        print(\"Mixotrophic with \", model.metabolites.get_by_id(carbon_source+\"__extr\").name, model.slim_optimize())\n",
    "\n",
    "# Heterotrophic\n",
    "with pl as model:\n",
    "    model.exchanges.EX_C00205__dra.lower_bound = 0\n",
    "    model.objective = \"e_Biomass_ht__cytop\"\n",
    "    for carbon_source in carbon_sources:\n",
    "        model.exchanges.get_by_id(f\"EX_{carbon_source}__dra\").lower_bound = -1\n",
    "        print(\"Heterotrophic with \", model.metabolites.get_by_id(carbon_source+\"__extr\").name, model.slim_optimize())"
   ],
   "id": "d3b7fd4b428189c1",
   "outputs": [
    {
     "name": "stdout",
     "output_type": "stream",
     "text": [
      "Mixotrophic with  alpha-D-Glucose 0.223939533698933\n",
      "Mixotrophic with  Acetate 0.2503256936439987\n",
      "Mixotrophic with  Glycerol 0.29839663876631156\n",
      "Mixotrophic with  Sucrose 0.47576530816802454\n",
      "Heterotrophic with  alpha-D-Glucose 0.07291062313969884\n",
      "Heterotrophic with  Acetate 0.09150422644346944\n",
      "Heterotrophic with  Glycerol 0.1352714049317378\n",
      "Heterotrophic with  Sucrose 0.29058163054418795\n"
     ]
    }
   ],
   "execution_count": 9
  }
 ],
 "metadata": {
  "kernelspec": {
   "display_name": "Python 3",
   "language": "python",
   "name": "python3"
  },
  "language_info": {
   "codemirror_mode": {
    "name": "ipython",
    "version": 2
   },
   "file_extension": ".py",
   "mimetype": "text/x-python",
   "name": "python",
   "nbconvert_exporter": "python",
   "pygments_lexer": "ipython2",
   "version": "2.7.6"
  }
 },
 "nbformat": 4,
 "nbformat_minor": 5
}
