{
 "cells": [
  {
   "cell_type": "code",
   "id": "initial_id",
   "metadata": {
    "collapsed": true,
    "ExecuteTime": {
     "end_time": "2024-06-06T08:58:51.806881Z",
     "start_time": "2024-06-06T08:58:51.790883Z"
    }
   },
   "source": [
    "from gsmmutils import ModelValidator, MyModel\n",
    "import gsmmutils\n",
    "gsmmutils.model.model_validator.DATA_PATH =  \"../results\"\n",
    "import seaborn as sns\n",
    "from gsmmutils import DATA_PATH\n",
    "gsmmutils.DATA_PATH = r\"C:\\Users\\Bisbii\\PythonProjects\\GSMMutils\\data\"\n",
    "from os.path import join\n",
    "import matplotlib.pyplot as plt\n",
    "sns.set(rc={'figure.figsize':(35,8.27)})"
   ],
   "outputs": [],
   "execution_count": 3
  },
  {
   "metadata": {
    "ExecuteTime": {
     "end_time": "2024-06-06T12:26:49.324208Z",
     "start_time": "2024-06-06T12:26:27.044132Z"
    }
   },
   "cell_type": "code",
   "source": [
    "ng = MyModel(join(DATA_PATH, 'models/model_ng.xml'), 'e_Biomass__cytop')\n",
    "ng.set_prism_reaction(\"PRISM_solar_litho__extr\")\n",
    "print(ng.slim_optimize())\n",
    "ds = MyModel(join(DATA_PATH, 'models/model_ds.xml'), 'e_Biomass__cytop')\n",
    "ds.set_prism_reaction(\"PRISM_white_LED__extr\")\n",
    "print(ds.slim_optimize())\n",
    "pl = MyModel(join(DATA_PATH, 'models/model_pl.xml'), 'e_Biomass__cytop')\n",
    "pl.set_prism_reaction(\"PRISM_fluorescent_cool_215W__extr\")\n",
    "print(pl.slim_optimize())"
   ],
   "id": "a23e51f3aa82ee8f",
   "outputs": [
    {
     "name": "stdout",
     "output_type": "stream",
     "text": [
      "Loading\n",
      "\n",
      "Reactions: 4511\n",
      "Metabolites: 3854\n",
      "Genes: 1331\n",
      "Model loaded\n",
      "0.021383004132942345\n",
      "Loading\n",
      "\n",
      "Reactions: 4568\n",
      "Metabolites: 3696\n",
      "Genes: 1696\n",
      "Model loaded\n",
      "0.1937600881803375\n",
      "Loading\n",
      "\n",
      "Reactions: 4772\n",
      "Metabolites: 4216\n",
      "Genes: 1350\n",
      "Model loaded\n",
      "0.13531697467297563\n"
     ]
    }
   ],
   "execution_count": 45
  },
  {
   "metadata": {},
   "cell_type": "markdown",
   "source": "N. gaditana",
   "id": "7b7fcc8099016623"
  },
  {
   "metadata": {
    "ExecuteTime": {
     "end_time": "2024-06-06T11:53:51.277017Z",
     "start_time": "2024-06-06T11:53:49.334665Z"
    }
   },
   "cell_type": "code",
   "source": [
    "carbon_sources = [\"C00267\", \"C00469\", \"C00181\",  \"C02336\", \"C00089\", \"C00962\"]\n",
    "\n",
    "for carbon_source in carbon_sources:\n",
    "    with ng as model:\n",
    "        model.exchanges.EX_C00205__dra.lower_bound = 0\n",
    "        model.exchanges.EX_C00244__dra.lower_bound = -10\n",
    "        model.exchanges.get_by_id(f\"EX_{carbon_source}__dra\").lower_bound = -1\n",
    "        print(carbon_source, model.slim_optimize())\n",
    "        \n",
    "with ng as model:\n",
    "    model.exchanges.EX_C00267__dra.lower_bound = -1\n",
    "    model.exchanges.EX_C00244__dra.lower_bound = -10\n",
    "    print(f\"Mixotrophic with glucose: {model.slim_optimize()}\")\n",
    "\n",
    "with ng as model:\n",
    "    model.exchanges.EX_C00244__dra.lower_bound = 0\n",
    "    model.exchanges.EX_C00088__dra.lower_bound = -0.133\n",
    "    print(f\"Autotrophic with nitrite: {model.slim_optimize()}\")\n",
    "    \n",
    "with ng as model:\n",
    "    model.exchanges.EX_C00244__dra.lower_bound = 0\n",
    "    model.exchanges.EX_C00088__dra.lower_bound = 0\n",
    "    model.exchanges.EX_C00014__dra.lower_bound = -1\n",
    "    print(f\"Autotrophic with ammonia: {model.slim_optimize()}\")\n",
    "    \n",
    "    \n",
    "with ng as model:\n",
    "    model.exchanges.EX_C00244__dra.lower_bound = 0\n",
    "    model.exchanges.EX_C00086__dra.lower_bound = -1\n",
    "    print(f\"Autotrophic with urea: {model.slim_optimize()}\")"
   ],
   "id": "733ce8c2d51a60b0",
   "outputs": [
    {
     "name": "stdout",
     "output_type": "stream",
     "text": [
      "C00267 0.07112692067717953\n",
      "C00469 0.025813891099959112\n",
      "C00181 0.05643948392103913\n",
      "C02336 0.07112692064944096\n",
      "C00089 0.15067676611263284\n",
      "C00962 0.07112692064944356\n",
      "Mixotrophic with glucose: 0.14968102893059249\n",
      "Autotrophic with nitrite: 0.02138300413294239\n",
      "Autotrophic with ammonia: 0.02138300413294247\n",
      "Autotrophic with urea: 0.02254653333934825\n"
     ]
    }
   ],
   "execution_count": 40
  },
  {
   "metadata": {},
   "cell_type": "markdown",
   "source": "P. lutheri",
   "id": "be050877294bca19"
  },
  {
   "metadata": {
    "ExecuteTime": {
     "end_time": "2024-06-06T12:13:47.173542Z",
     "start_time": "2024-06-06T12:13:45.838600Z"
    }
   },
   "cell_type": "code",
   "source": [
    "carbon_sources = [\"C00267\", \"C00033\", \"C00116\",  \"C00089\"]\n",
    "# Mixotrophic\n",
    "with pl as model:\n",
    "    for carbon_source in carbon_sources:\n",
    "        model.exchanges.get_by_id(f\"EX_{carbon_source}__dra\").lower_bound = -1\n",
    "        print(carbon_source, model.slim_optimize())\n",
    "\n",
    "# Heterotrophic\n",
    "with pl as model:\n",
    "    model.exchanges.EX_C00205__dra.lower_bound = 0\n",
    "    model.objective = \"e_Biomass_ht__cytop\"\n",
    "    for carbon_source in carbon_sources:\n",
    "        model.exchanges.get_by_id(f\"EX_{carbon_source}__dra\").lower_bound = -1\n",
    "        print(carbon_source, model.slim_optimize())"
   ],
   "id": "d3b7fd4b428189c1",
   "outputs": [
    {
     "name": "stdout",
     "output_type": "stream",
     "text": [
      "C00267 0.22393953369893216\n",
      "C00033 0.25032569364399926\n",
      "C00116 0.29839663876631006\n",
      "C00089 0.4757653081680254\n",
      "C00267 0.07291062314056201\n",
      "C00033 0.0915042264434734\n",
      "C00116 0.1352714049317375\n",
      "C00089 0.2905816305441813\n"
     ]
    }
   ],
   "execution_count": 44
  }
 ],
 "metadata": {
  "kernelspec": {
   "display_name": "Python 3",
   "language": "python",
   "name": "python3"
  },
  "language_info": {
   "codemirror_mode": {
    "name": "ipython",
    "version": 2
   },
   "file_extension": ".py",
   "mimetype": "text/x-python",
   "name": "python",
   "nbconvert_exporter": "python",
   "pygments_lexer": "ipython2",
   "version": "2.7.6"
  }
 },
 "nbformat": 4,
 "nbformat_minor": 5
}
