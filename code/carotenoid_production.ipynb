{
 "cells": [
  {
   "cell_type": "code",
   "execution_count": 1,
   "id": "initial_id",
   "metadata": {
    "ExecuteTime": {
     "end_time": "2024-03-15T18:27:54.124471Z",
     "start_time": "2024-03-15T18:27:54.105848Z"
    }
   },
   "outputs": [
    {
     "name": "stderr",
     "output_type": "stream",
     "text": [
      "\n",
      "KeyboardInterrupt\n",
      "\n"
     ]
    }
   ],
   "source": [
    "\n",
    "from gsmmutils import MyModel\n",
    "import gsmmutils\n",
    "gsmmutils.DATA_PATH = \"../results/ppp\"\n",
    "from code.utils.utils import *\n",
    "import logging\n",
    "logging.getLogger('cobra').setLevel(logging.CRITICAL)\n",
    "logging.getLogger('gsmmutils').setLevel(logging.CRITICAL)\n",
    "import warnings\n",
    "warnings.filterwarnings(\"ignore\")\n",
    "from itertools import combinations"
   ]
  },
  {
   "cell_type": "code",
   "execution_count": null,
   "id": "d464cb8d1f355019",
   "metadata": {
    "ExecuteTime": {
     "end_time": "2024-03-15T18:26:41.875534Z",
     "start_time": "2024-03-15T18:26:35.270689Z"
    }
   },
   "outputs": [],
   "source": [
    "original_model = MyModel(r\"../data/model_no_carotenoids.xml\", \"e_Biomass__cytop\")\n",
    "constraint = original_model.problem.Constraint(\n",
    "                original_model.reactions.R09503_hn438__lum.flux_expression + original_model.reactions.R09503_hn673__lum.flux_expression,\n",
    "                lb=0,\n",
    "                ub=199.44)\n",
    "original_model.add_cons_vars(constraint)"
   ]
  },
  {
   "cell_type": "code",
   "execution_count": null,
   "id": "ee7f03a96645e4e5",
   "metadata": {
    "ExecuteTime": {
     "end_time": "2024-03-08T18:41:30.614032Z",
     "start_time": "2024-03-08T18:40:35.169738Z"
    },
    "scrolled": true
   },
   "outputs": [],
   "source": [
    "with original_model as model_max_carotenoid:\n",
    "    model_max_carotenoid.exchanges.EX_C00244__dra.bounds = (-1,1000)\n",
    "    model_max_carotenoid.demands.DM_C00244__cytop.bounds = (0,0)\n",
    "    model_max_carotenoid.demands.DM_C00404__vacu.bounds = (0,0)\n",
    "    model_max_carotenoid.exchanges.EX_C00533__dra.bounds = (0,0)\n",
    "    model_max_carotenoid.exchanges.EX_C00014__dra.bounds = (0,0)\n",
    "    model_max_carotenoid.exchanges.EX_C00009__dra.bounds = (-0.1,1000)\n",
    "    model_max_carotenoid.exchanges.EX_C00059__dra.bounds = (-0.1,1000)\n",
    "    model_max_carotenoid.reactions.e_Biomass__cytop.bounds = (0.14, 1000)\n",
    "    model_max_carotenoid.exchanges.EX_C00205__dra.bounds = (-1000,1000)\n",
    "    model_max_carotenoid.reactions.EX_C00011__dra.bounds = (-10, 1000)\n",
    "    \n",
    "    reactions_map = {\"EX_C00205__dra\": \"photon uptake\", \"EX_C00244__dra\": \"Nitrate uptake\", \n",
    "                         \"EX_C00009__dra\": \"Phosphate uptake\", \"EX_C00011__dra\": \"CO2 uptake\",\n",
    "                         \"EX_C00059__dra\": \"Sulfate uptake\",\n",
    "                         \"DM_C02094__chlo\": r\"$\\beta$-Carotene production\", \n",
    "                     \"DM_C08601__chlo\": \"Lutein production\"\n",
    "                    }\n",
    "    nutrients = {\n",
    "                \"EX_C00205__dra\",\n",
    "                 \"EX_C00244__dra\",\n",
    "                 \"EX_C00009__dra\",\n",
    "                 \"EX_C00011__dra\",\n",
    "                \"EX_C00059__dra\"}\n",
    "    objectives = {\"DM_C02094__chlo\",\n",
    "                  \"DM_C08601__chlo\"\n",
    "                 }\n",
    "    for objective in objectives:\n",
    "        for combination in combinations(nutrients, 2):\n",
    "            print(objective, combination)\n",
    "            production_env_plot(model_max_carotenoid, reactions_map,  combination[0], combination[1], objective,\n",
    "                               \"max_carotenoid\")"
   ]
  },
  {
   "cell_type": "code",
   "execution_count": null,
   "id": "7e4e1f0a",
   "metadata": {},
   "outputs": [],
   "source": [
    "with original_model as  model_max_biomass:\n",
    "    model_max_biomass.exchanges.EX_C00244__dra.bounds = (-0.363,1000)\n",
    "    model_max_biomass.demands.DM_C00244__cytop.bounds = (0,0)\n",
    "    model_max_biomass.demands.DM_C00404__vacu.bounds = (0,0)\n",
    "    model_max_biomass.exchanges.EX_C00533__dra.bounds = (0,0)\n",
    "    model_max_biomass.exchanges.EX_C00014__dra.bounds = (0,0)\n",
    "    model_max_biomass.exchanges.EX_C00009__dra.bounds = (-0.022,1000)\n",
    "    model_max_biomass.exchanges.EX_C00059__dra.bounds = (-0.1,1000)\n",
    "    model_max_biomass.exchanges.EX_C00205__dra.bounds = (-1000,1000)\n",
    "    model_max_biomass.reactions.EX_C00011__dra.bounds = (-8.21, -8.21)\n",
    "    reactions_map = {\"EX_C00205__dra\": \"photon uptake\", \"EX_C00244__dra\": \"Nitrate uptake\", \n",
    "                         \"EX_C00009__dra\": \"Phosphate uptake\", \"EX_C00011__dra\": \"CO2 uptake\",\n",
    "                         \"EX_C00059__dra\": \"Sulfate uptake\",\n",
    "                         \"DM_C02094__chlo\": r\"$\\beta$-Carotene production\", \"DM_C08601__chlo\": \"Lutein production\",\n",
    "                    \"e_Biomass__cytop\": \"Growth rate\"}\n",
    "    nutrients = {\n",
    "        \"EX_C00205__dra\", \n",
    "                 \"EX_C00244__dra\", \"EX_C00009__dra\", \"EX_C00011__dra\", \"EX_C00059__dra\",\n",
    "                \"DM_C02094__chlo\", \"DM_C08601__chlo\"}\n",
    "    objectives = {\"e_Biomass__cytop\"}\n",
    "    for objective in objectives:\n",
    "        for combination in combinations(nutrients, 2):\n",
    "            print(objective, combination)\n",
    "            production_env_plot(model_max_carotenoid, reactions_map,  combination[0], combination[1], objective,\n",
    "                               \"max_biomass\")"
   ]
  }
 ],
 "metadata": {
  "kernelspec": {
   "display_name": "Python 3 (ipykernel)",
   "language": "python",
   "name": "python3"
  },
  "language_info": {
   "codemirror_mode": {
    "name": "ipython",
    "version": 3
   },
   "file_extension": ".py",
   "mimetype": "text/x-python",
   "name": "python",
   "nbconvert_exporter": "python",
   "pygments_lexer": "ipython3",
   "version": "3.10.13"
  }
 },
 "nbformat": 4,
 "nbformat_minor": 5
}
