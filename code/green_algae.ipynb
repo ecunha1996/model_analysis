{
 "cells": [
  {
   "cell_type": "code",
   "execution_count": 1,
   "id": "15a9a110-85b9-4f76-a54b-d8aa7e4cb5c5",
   "metadata": {},
   "outputs": [],
   "source": [
    "from gsmmutils.model import MyModel"
   ]
  },
  {
   "cell_type": "code",
   "execution_count": 48,
   "id": "9914d97b-8ecf-42ea-8f2f-a4f10c41f33f",
   "metadata": {},
   "outputs": [
    {
     "name": "stdout",
     "output_type": "stream",
     "text": [
      "Loading\n",
      "\n",
      "Reactions: 2294\n",
      "Metabolites: 1770\n",
      "Genes: 945\n",
      "Model loaded\n"
     ]
    }
   ],
   "source": [
    "model = MyModel(r\"../data/iCZ946_lv3.xml\", \"Biomass_Cvu_auto-\")"
   ]
  },
  {
   "cell_type": "code",
   "execution_count": 50,
   "id": "aa479a51-7721-4678-9279-3f72108d3700",
   "metadata": {},
   "outputs": [],
   "source": [
    "from cobra.flux_analysis import find_blocked_reactions\n",
    "blocked = find_blocked_reactions(model, open_exchanges=True)"
   ]
  },
  {
   "cell_type": "code",
   "execution_count": 52,
   "id": "f37187d8-69b3-4dd9-b32b-320b23394c0a",
   "metadata": {},
   "outputs": [
    {
     "data": {
      "text/plain": [
       "0.2863993025283348"
      ]
     },
     "execution_count": 52,
     "metadata": {},
     "output_type": "execute_result"
    }
   ],
   "source": [
    "len(blocked)/len(model.reactions)"
   ]
  },
  {
   "cell_type": "code",
   "execution_count": 42,
   "id": "ab60fa1f-8a8d-4480-b406-908f8f5f7910",
   "metadata": {},
   "outputs": [
    {
     "ename": "CobraSBMLError",
     "evalue": "Something went wrong reading the SBML model. Most likely the SBML model is not valid. Please check that your model is valid using the `cobra.io.sbml.validate_sbml_model` function or via the online validator at https://sbml.org/validator_servlet/ .\n\t`(model, errors) = validate_sbml_model(filename)`\nIf the model is valid and cannot be read please open an issue at https://github.com/opencobra/cobrapy/issues .",
     "output_type": "error",
     "traceback": [
      "\u001b[0;31m---------------------------------------------------------------------------\u001b[0m",
      "\u001b[0;31mTypeError\u001b[0m                                 Traceback (most recent call last)",
      "File \u001b[0;32m~/miniforge3/envs/model_analysis/lib/python3.10/site-packages/cobra/io/sbml.py:458\u001b[0m, in \u001b[0;36mread_sbml_model\u001b[0;34m(filename, number, f_replace, **kwargs)\u001b[0m\n\u001b[1;32m    457\u001b[0m     doc \u001b[38;5;241m=\u001b[39m _get_doc_from_filename(filename)\n\u001b[0;32m--> 458\u001b[0m     \u001b[38;5;28;01mreturn\u001b[39;00m \u001b[43m_sbml_to_model\u001b[49m\u001b[43m(\u001b[49m\u001b[43mdoc\u001b[49m\u001b[43m,\u001b[49m\u001b[43m \u001b[49m\u001b[43mnumber\u001b[49m\u001b[38;5;241;43m=\u001b[39;49m\u001b[43mnumber\u001b[49m\u001b[43m,\u001b[49m\u001b[43m \u001b[49m\u001b[43mf_replace\u001b[49m\u001b[38;5;241;43m=\u001b[39;49m\u001b[43mf_replace\u001b[49m\u001b[43m,\u001b[49m\u001b[43m \u001b[49m\u001b[38;5;241;43m*\u001b[39;49m\u001b[38;5;241;43m*\u001b[39;49m\u001b[43mkwargs\u001b[49m\u001b[43m)\u001b[49m\n\u001b[1;32m    459\u001b[0m \u001b[38;5;28;01mexcept\u001b[39;00m \u001b[38;5;167;01mIOError\u001b[39;00m \u001b[38;5;28;01mas\u001b[39;00m e:\n",
      "File \u001b[0;32m~/miniforge3/envs/model_analysis/lib/python3.10/site-packages/cobra/io/sbml.py:956\u001b[0m, in \u001b[0;36m_sbml_to_model\u001b[0;34m(doc, number, f_replace, set_missing_bounds, **kwargs)\u001b[0m\n\u001b[1;32m    955\u001b[0m                 gpr \u001b[38;5;241m=\u001b[39m \u001b[38;5;124m\"\u001b[39m\u001b[38;5;124m \u001b[39m\u001b[38;5;124m\"\u001b[39m\u001b[38;5;241m.\u001b[39mjoin(f_replace[F_GENE](t) \u001b[38;5;28;01mfor\u001b[39;00m t \u001b[38;5;129;01min\u001b[39;00m gpr\u001b[38;5;241m.\u001b[39msplit(\u001b[38;5;124m\"\u001b[39m\u001b[38;5;124m \u001b[39m\u001b[38;5;124m\"\u001b[39m))\n\u001b[0;32m--> 956\u001b[0m         cobra_reaction\u001b[38;5;241m.\u001b[39mgpr \u001b[38;5;241m=\u001b[39m \u001b[43mGPR\u001b[49m\u001b[38;5;241;43m.\u001b[39;49m\u001b[43mfrom_string\u001b[49m\u001b[43m(\u001b[49m\u001b[43mgpr\u001b[49m\u001b[43m)\u001b[49m\n\u001b[1;32m    958\u001b[0m cobra_model\u001b[38;5;241m.\u001b[39madd_reactions(reactions)\n",
      "File \u001b[0;32m~/miniforge3/envs/model_analysis/lib/python3.10/site-packages/cobra/core/gene.py:378\u001b[0m, in \u001b[0;36mGPR.from_string\u001b[0;34m(cls, string_gpr)\u001b[0m\n\u001b[1;32m    377\u001b[0m         \u001b[38;5;28;01mreturn\u001b[39;00m gpr\n\u001b[0;32m--> 378\u001b[0m gpr \u001b[38;5;241m=\u001b[39m \u001b[38;5;28;43mcls\u001b[39;49m\u001b[43m(\u001b[49m\u001b[43mtree\u001b[49m\u001b[43m)\u001b[49m\n\u001b[1;32m    379\u001b[0m gpr\u001b[38;5;241m.\u001b[39mupdate_genes()\n",
      "File \u001b[0;32m~/miniforge3/envs/model_analysis/lib/python3.10/site-packages/cobra/core/gene.py:307\u001b[0m, in \u001b[0;36mGPR.__init__\u001b[0;34m(self, gpr_from, **kwargs)\u001b[0m\n\u001b[1;32m    306\u001b[0m     \u001b[38;5;28mself\u001b[39m\u001b[38;5;241m.\u001b[39mbody \u001b[38;5;241m=\u001b[39m deepcopy(gpr_from\u001b[38;5;241m.\u001b[39mbody)\n\u001b[0;32m--> 307\u001b[0m     \u001b[38;5;28;43mself\u001b[39;49m\u001b[38;5;241;43m.\u001b[39;49m\u001b[43meval\u001b[49m\u001b[43m(\u001b[49m\u001b[43m)\u001b[49m\n\u001b[1;32m    308\u001b[0m \u001b[38;5;28;01melse\u001b[39;00m:\n",
      "File \u001b[0;32m~/miniforge3/envs/model_analysis/lib/python3.10/site-packages/cobra/core/gene.py:473\u001b[0m, in \u001b[0;36mGPR.eval\u001b[0;34m(self, knockouts)\u001b[0m\n\u001b[1;32m    472\u001b[0m \u001b[38;5;28;01mif\u001b[39;00m \u001b[38;5;28mself\u001b[39m\u001b[38;5;241m.\u001b[39mbody:\n\u001b[0;32m--> 473\u001b[0m     \u001b[38;5;28;01mreturn\u001b[39;00m \u001b[38;5;28;43mself\u001b[39;49m\u001b[38;5;241;43m.\u001b[39;49m\u001b[43m_eval_gpr\u001b[49m\u001b[43m(\u001b[49m\u001b[38;5;28;43mself\u001b[39;49m\u001b[38;5;241;43m.\u001b[39;49m\u001b[43mbody\u001b[49m\u001b[43m,\u001b[49m\u001b[43m \u001b[49m\u001b[43mknockouts\u001b[49m\u001b[38;5;241;43m=\u001b[39;49m\u001b[43mknockouts\u001b[49m\u001b[43m)\u001b[49m\n\u001b[1;32m    474\u001b[0m \u001b[38;5;28;01melse\u001b[39;00m:\n",
      "File \u001b[0;32m~/miniforge3/envs/model_analysis/lib/python3.10/site-packages/cobra/core/gene.py:448\u001b[0m, in \u001b[0;36mGPR._eval_gpr\u001b[0;34m(self, expr, knockouts)\u001b[0m\n\u001b[1;32m    447\u001b[0m \u001b[38;5;28;01melse\u001b[39;00m:\n\u001b[0;32m--> 448\u001b[0m     \u001b[38;5;28;01mraise\u001b[39;00m \u001b[38;5;167;01mTypeError\u001b[39;00m(\u001b[38;5;124mf\u001b[39m\u001b[38;5;124m\"\u001b[39m\u001b[38;5;124mUnsupported operation: \u001b[39m\u001b[38;5;132;01m{\u001b[39;00m\u001b[38;5;28mrepr\u001b[39m(expr)\u001b[38;5;132;01m}\u001b[39;00m\u001b[38;5;124m\"\u001b[39m)\n",
      "\u001b[0;31mTypeError\u001b[0m: Unsupported operation: <ast.List object at 0x7f1977b03ca0>",
      "\nThe above exception was the direct cause of the following exception:\n",
      "\u001b[0;31mCobraSBMLError\u001b[0m                            Traceback (most recent call last)",
      "Cell \u001b[0;32mIn[42], line 2\u001b[0m\n\u001b[1;32m      1\u001b[0m \u001b[38;5;28;01mfrom\u001b[39;00m \u001b[38;5;21;01mcobra\u001b[39;00m\u001b[38;5;21;01m.\u001b[39;00m\u001b[38;5;21;01mio\u001b[39;00m \u001b[38;5;28;01mimport\u001b[39;00m read_sbml_model\n\u001b[0;32m----> 2\u001b[0m model \u001b[38;5;241m=\u001b[39m \u001b[43mread_sbml_model\u001b[49m\u001b[43m(\u001b[49m\u001b[38;5;124;43mr\u001b[39;49m\u001b[38;5;124;43m\"\u001b[39;49m\u001b[38;5;124;43m../data/iCZ946.xml\u001b[39;49m\u001b[38;5;124;43m\"\u001b[39;49m\u001b[43m)\u001b[49m\n",
      "File \u001b[0;32m~/miniforge3/envs/model_analysis/lib/python3.10/site-packages/cobra/io/sbml.py:472\u001b[0m, in \u001b[0;36mread_sbml_model\u001b[0;34m(filename, number, f_replace, **kwargs)\u001b[0m\n\u001b[1;32m    462\u001b[0m \u001b[38;5;28;01mexcept\u001b[39;00m \u001b[38;5;167;01mException\u001b[39;00m \u001b[38;5;28;01mas\u001b[39;00m original_error:\n\u001b[1;32m    463\u001b[0m     cobra_error \u001b[38;5;241m=\u001b[39m CobraSBMLError(\n\u001b[1;32m    464\u001b[0m         \u001b[38;5;124m\"\u001b[39m\u001b[38;5;124mSomething went wrong reading the SBML model. Most likely the SBML\u001b[39m\u001b[38;5;124m\"\u001b[39m\n\u001b[1;32m    465\u001b[0m         \u001b[38;5;124m\"\u001b[39m\u001b[38;5;124m model is not valid. Please check that your model is valid using \u001b[39m\u001b[38;5;124m\"\u001b[39m\n\u001b[0;32m   (...)\u001b[0m\n\u001b[1;32m    470\u001b[0m         \u001b[38;5;124m\"\u001b[39m\u001b[38;5;124mat https://github.com/opencobra/cobrapy/issues .\u001b[39m\u001b[38;5;124m\"\u001b[39m\n\u001b[1;32m    471\u001b[0m     )\n\u001b[0;32m--> 472\u001b[0m     \u001b[38;5;28;01mraise\u001b[39;00m cobra_error \u001b[38;5;28;01mfrom\u001b[39;00m \u001b[38;5;21;01moriginal_error\u001b[39;00m\n",
      "\u001b[0;31mCobraSBMLError\u001b[0m: Something went wrong reading the SBML model. Most likely the SBML model is not valid. Please check that your model is valid using the `cobra.io.sbml.validate_sbml_model` function or via the online validator at https://sbml.org/validator_servlet/ .\n\t`(model, errors) = validate_sbml_model(filename)`\nIf the model is valid and cannot be read please open an issue at https://github.com/opencobra/cobrapy/issues ."
     ]
    }
   ],
   "source": [
    "from cobra.io import read_sbml_model\n",
    "model = read_sbml_model(r\"../data/iCZ946.xml\")"
   ]
  },
  {
   "cell_type": "code",
   "execution_count": 39,
   "id": "26c1c8be-ac09-4f43-8872-901b193baefe",
   "metadata": {},
   "outputs": [
    {
     "data": {
      "text/plain": [
       "{'dna': 0.5848351349321159,\n",
       " 'acids': 0.7696975862658841,\n",
       " 'carbohydrates': 18.472448102648954,\n",
       " 'rna': 13.216750352916,\n",
       " 'lipids': 7.531891581934933}"
      ]
     },
     "execution_count": 39,
     "metadata": {},
     "output_type": "execute_result"
    }
   ],
   "source": [
    "molecules= {\"protein\": [\"alatrna_c\", \"argtrna_c\",\"asntrna_c\",\"asptrna_c\"\"cystrna_c\",\n",
    "\"glntrna_c\",\"glutrna_c\",'glytrna_c','histrna_c','iletrna_c','leutrna_c','lystrna_c',\n",
    "'mettrna_c','phetrna_c','protrna_c','sertrna_c','thrtrna_c','trptrna_c','tyrtrna_c','valtrna_c'],\n",
    "           \"dna\": [\"datp_c\",\"dctp_c\",\"dgtp_c\",\"dttp_c\"],\n",
    "           \"acids\": [\"ac_c\",\"but_c\",\"ppa_c\", \"glyc_c\"],\n",
    "           \"carbohydrates\": [\"starch300_c\",\"man_c\",\"arab-L_c\",\"gal_c\"],\n",
    "           \"rna\": [\"gtp_c\",\"ctp_c\",\"gtp_c\",\"utp_c\"],\n",
    "           \"pigments\": [\"chla_u\",\"chlb_u\",\"acaro_h\",\"anxan_u\",\"caro_u\",\"loroxan_u\",\"lut_u\",\"neoxan_u\",\"vioxan_u\",\"zaxan_u\"],\n",
    "           \"lipids\": [\"mgdg1839Z12Z15Z1644Z7Z10Z13Z_h\",\n",
    "\"mgdg1839Z12Z15Z1637Z10Z13Z_h\",\n",
    "\"mgdg1839Z12Z15Z1634Z7Z10Z_h\",\n",
    "\"mgdg1829Z12Z1644Z7Z10Z13Z_h\",\n",
    "\"mgdg1829Z12Z1637Z10Z13Z_h\",\n",
    "\"mgdg1829Z12Z1634Z7Z10Z_h\",\n",
    "\"mgdg1839Z12Z15Z1627Z10Z_h\",\n",
    "\"mgdg1829Z12Z1627Z10Z_h\",\n",
    "\"mgdg1829Z12Z1617Z_h\",\n",
    "\"mgdg1829Z12Z1619Z_h\",\n",
    "\"mgdg1839Z12Z15Z160_h\",\n",
    "\"mgdg1829Z12Z160_h\",\n",
    "\"dgdg1839Z12Z15Z1644Z7Z10Z13Z_h\",\n",
    "\"dgdg1839Z12Z15Z1637Z10Z13Z_h\",\n",
    "\"dgdg1839Z12Z15Z1634Z7Z10Z_h\",\n",
    "\"dgdg1839Z12Z15Z1627Z10Z_h\",\n",
    "\"dgdg1829Z12Z1637Z10Z13Z_h\",\n",
    "\"dgdg1829Z12Z1634Z7Z10Z_h\",\n",
    "\"dgdg1829Z12Z1627Z10Z_h\",\n",
    "\"dgdg1819Z1637Z10Z13Z_h\",\n",
    "\"dgdg1819Z1634Z7Z10Z_h\",\n",
    "\"dgdg1819Z1627Z10Z_h\",\n",
    "\"dgdg1839Z12Z15Z160_h\",\n",
    "\"dgdg1829Z12Z1617Z_h\",\n",
    "\"dgdg1829Z12Z1619Z_h\",\n",
    "\"dgdg1829Z12Z160_h\",\n",
    "\"dgdg1819Z1617Z_h\",\n",
    "\"dgdg1819Z160_h\",\n",
    "\"dgts1839Z12Z15Z1845Z9Z12Z15Z_c\",\n",
    "\"dgts1839Z12Z15Z1835Z9Z12Z_c\",\n",
    "\"dgts1829Z12Z1845Z9Z12Z15Z_c\",\n",
    "\"dgts1829Z12Z1835Z9Z12Z_c\",\n",
    "\"dgts1819Z1845Z9Z12Z15Z_c\",\n",
    "\"dgts18111Z1845Z9Z12Z15Z_c\",\n",
    "\"dgts1601845Z9Z12Z15Z_c\",\n",
    "\"dgts1829Z12Z1829Z12Z_c\",\n",
    "\"dgts1839Z12Z15Z1819Z_c\",\n",
    "\"dgts1829Z12Z1819Z_c\",\n",
    "\"dgts1839Z12Z15Z18111Z_c\",\n",
    "\"dgts1829Z12Z18111Z_c\",\n",
    "\"dgts1819Z1835Z9Z12Z_c\",\n",
    "\"dgts18111Z1835Z9Z12Z_c\",\n",
    "\"dgts1601835Z9Z12Z_c\",\n",
    "\"dgts1819Z1829Z12Z_c\",\n",
    "\"dgts18111Z1829Z12Z_c\",\n",
    "\"dgts1819Z1819Z_c\",\n",
    "\"dgts1819Z18111Z_c\",\n",
    "\"dgts18111Z1819Z_c\",\n",
    "\"dgts18111Z18111Z_c\",\n",
    "\"dgts1601829Z12Z_c\",\n",
    "\"dgts1601819Z_c\",\n",
    "\"dgts16018111Z_c\",\n",
    "\"sqdg1839Z12Z15Z160_h\",\n",
    "\"sqdg1829Z12Z160_h\",\n",
    "\"sqdg1819Z160_h\",\n",
    "\"sqdg18111Z160_h\",\n",
    "\"sqdg160_h\",\n",
    "\"asqdpa1819Z160_c\",\n",
    "\"asqdpa18111Z160_c\",\n",
    "\"asqdpa1829Z12Z160_c\",\n",
    "\"asqdpa1839Z12Z15Z160_c\",\n",
    "\"asqdca1819Z160_c\",\n",
    "\"asqdca18111Z160_c\",\n",
    "\"asqdca1829Z12Z160_c\",\n",
    "\"asqdca1839Z12Z15Z160_c\",\n",
    "\"pg1839Z12Z15Z1613E_h\",\n",
    "\"pg1839Z12Z15Z160_h\",\n",
    "\"pg1829Z12Z1613E_h\",\n",
    "\"pg1829Z12Z160_h\",\n",
    "\"pg1819Z1613E_h\",\n",
    "\"pg18111Z1613E_h\",\n",
    "\"pg1819Z160_h\",\n",
    "\"pg18111Z160_h\",\n",
    "\"pe1829Z12Z1835Z9Z12Z_c\",\n",
    "\"pe1819Z1845Z9Z12Z15Z_c\",\n",
    "\"pe1819Z1835Z9Z12Z_c\",\n",
    "\"pe18111Z1845Z9Z12Z15Z_c\",\n",
    "\"pe18111Z1835Z9Z12Z_c\",\n",
    "\"pe1801845Z9Z12Z15Z_c\",\n",
    "\"pe1801835Z9Z12Z_c\",\n",
    "\"pail18111Z160_c\",\n",
    "\"pail1819Z160_c\",\n",
    "\"tag16018111Z160_c\",\n",
    "\"tag1601819Z160_c\",\n",
    "\"tag1801819Z160_c\",\n",
    "\"tag18111Z18111Z160_c\",\n",
    "\"tag18111Z1819Z160_c\",\n",
    "\"tag1819Z18111Z160_c\",\n",
    "\"tag1819Z1819Z160_c\",\n",
    "\"tag16018111Z180_c\",\n",
    "\"tag1601819Z180_c\",\n",
    "\"tag1801819Z180_c\",\n",
    "\"tag18111Z18111Z180_c\",\n",
    "\"tag18111Z1819Z180_c\",\n",
    "\"tag1819Z18111Z180_c\",\n",
    "\"tag1819Z1819Z180_c\",\n",
    "\"tag16018111Z18111Z_c\",\n",
    "\"tag1601819Z18111Z_c\",\n",
    "\"tag1801819Z18111Z_c\",\n",
    "\"tag18111Z18111Z18111Z_c\",\n",
    "\"tag18111Z1819Z18111Z_c\",\n",
    "\"tag1819Z18111Z18111Z_c\",\n",
    "\"tag1819Z1819Z18111Z_c\",\n",
    "\"tag16018111Z1819Z_c\",\n",
    "\"tag1601819Z1819Z_c\",\n",
    "\"tag1801819Z1819Z_c\",\n",
    "\"tag18111Z18111Z1819Z_c\",\n",
    "\"tag18111Z1819Z1819Z_c\",\n",
    "\"tag1819Z18111Z1819Z_c\",\n",
    "\"tag1819Z1819Z1819Z_c\",\n",
    "\"tag16018111Z1835Z9Z12Z_c\",\n",
    "\"tag1601819Z1835Z9Z12Z_c\",\n",
    "\"tag1801819Z1835Z9Z12Z_c\",\n",
    "\"tag18111Z18111Z1835Z9Z12Z_c\",\n",
    "\"tag18111Z1819Z1835Z9Z12Z_c\",\n",
    "\"tag1819Z18111Z1835Z9Z12Z_c\",\n",
    "\"tag1819Z1819Z1835Z9Z12Z_c\",\n",
    "\"tag16018111Z1845Z9Z12Z15Z_c\",\n",
    "\"tag1601819Z1845Z9Z12Z15Z_c\",\n",
    "\"tag1801819Z1845Z9Z12Z15Z_c\",\n",
    "\"tag18111Z18111Z1845Z9Z12Z15Z_c\",\n",
    "\"tag18111Z1819Z1845Z9Z12Z15Z_c\",\n",
    "\"tag1819Z18111Z1845Z9Z12Z15Z_c\",\n",
    "\"tag1819Z1819Z1845Z9Z12Z15Z_c\",\n",
    "],\n",
    "           \"cofactors\": [\"nad_c\",\"nadh_c\", \"nadph_c\", \"nadp_c\", \"btn_c\", \"thmmp_c\", \"fad_c\", \"gthrd_c\"]}\n",
    "\n",
    "res = {}\n",
    "\n",
    "for macro, micro in molecules.items():\n",
    "    for reactant in model.bio_reaction.reactants:\n",
    "        #print(f'\"{reactant.id}\",')\n",
    "        if reactant.id in micro:\n",
    "            if reactant.formula_weight:\n",
    "                g_gDW = abs(model.bio_reaction.metabolites[reactant] * reactant.formula_weight / 1000)*100\n",
    "                if macro not in res:\n",
    "                    res[macro] = g_gDW\n",
    "                else:\n",
    "                    res[macro] += g_gDW\n",
    "res"
   ]
  }
 ],
 "metadata": {
  "kernelspec": {
   "display_name": "Python 3 (ipykernel)",
   "language": "python",
   "name": "python3"
  },
  "language_info": {
   "codemirror_mode": {
    "name": "ipython",
    "version": 3
   },
   "file_extension": ".py",
   "mimetype": "text/x-python",
   "name": "python",
   "nbconvert_exporter": "python",
   "pygments_lexer": "ipython3",
   "version": "3.10.13"
  }
 },
 "nbformat": 4,
 "nbformat_minor": 5
}
