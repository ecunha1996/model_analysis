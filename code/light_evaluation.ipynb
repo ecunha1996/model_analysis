{
 "cells": [
  {
   "cell_type": "code",
   "metadata": {
    "ExecuteTime": {
     "end_time": "2024-11-05T16:41:13.657458Z",
     "start_time": "2024-11-05T16:41:10.678051Z"
    }
   },
   "source": [
    "from gsmmutils.model import MyModel\n",
    "import seaborn as sns\n",
    "sns.set(rc={'figure.figsize':(35,8.27)})\n",
    "DATA_PATH = r\"../data\"\n",
    "from os.path import join\n",
    "from utils.utils import get_ps_params_multi"
   ],
   "outputs": [],
   "execution_count": 1
  },
  {
   "cell_type": "code",
   "metadata": {
    "ExecuteTime": {
     "end_time": "2024-11-05T16:41:34.181530Z",
     "start_time": "2024-11-05T16:41:13.658429Z"
    }
   },
   "source": [
    "ds = MyModel(join(DATA_PATH, 'models/model_ds.xml'), 'e_Biomass__cytop')\n",
    "ds.set_prism_reaction(\"PRISM_solar_litho__extr\")\n",
    "ds.exchanges.EX_C00205__dra.bounds = (-20000, 20000)\n",
    "print(ds.slim_optimize())\n",
    "ng = MyModel(join(DATA_PATH, 'models/model_ng.xml'), 'e_Biomass__cytop')\n",
    "ng.exchanges.EX_C00205__dra.bounds = (-20000, 20000)\n",
    "ng.set_prism_reaction(\"PRISM_solar_litho__extr\")\n",
    "print(ng.slim_optimize())\n",
    "pl = MyModel(join(DATA_PATH, 'models/model_pl.xml'), 'e_Biomass__cytop')\n",
    "pl.exchanges.EX_C00205__dra.bounds = (-20000, 20000)\n",
    "pl.set_prism_reaction(\"PRISM_fluorescent_cool_215W__extr\")\n",
    "pl.reactions.e_Biomass_ht__cytop.bounds = (0,0)\n",
    "print(pl.slim_optimize())"
   ],
   "outputs": [
    {
     "name": "stdout",
     "output_type": "stream",
     "text": [
      "Loading\n",
      "\n",
      "Set parameter Username\n",
      "Academic license - for non-commercial use only - expires 2025-07-15\n",
      "Reactions: 4515\n",
      "Metabolites: 3680\n",
      "Genes: 1700\n",
      "Model loaded\n",
      "0.20060897294144756\n",
      "Loading\n",
      "\n",
      "Reactions: 4437\n",
      "Metabolites: 3771\n",
      "Genes: 1333\n",
      "Model loaded\n",
      "0.40715632401484175\n",
      "Loading\n",
      "\n",
      "Reactions: 4714\n",
      "Metabolites: 4173\n",
      "Genes: 1349\n",
      "Model loaded\n",
      "0.17297410371385694\n"
     ]
    }
   ],
   "execution_count": 2
  },
  {
   "cell_type": "code",
   "metadata": {
    "ExecuteTime": {
     "end_time": "2024-11-05T16:41:34.874966Z",
     "start_time": "2024-11-05T16:41:34.183498Z"
    }
   },
   "source": [
    "get_ps_params_multi({\"Dsalina\": ds, \"Ngadiitana\": ng, \"Plutheri\": pl})"
   ],
   "outputs": [
    {
     "data": {
      "text/plain": [
       "               QY     PQ\n",
       "Dsalina     0.037  1.243\n",
       "Ngadiitana  0.032  1.409\n",
       "Plutheri    0.028  1.416"
      ],
      "text/html": [
       "<div>\n",
       "<style scoped>\n",
       "    .dataframe tbody tr th:only-of-type {\n",
       "        vertical-align: middle;\n",
       "    }\n",
       "\n",
       "    .dataframe tbody tr th {\n",
       "        vertical-align: top;\n",
       "    }\n",
       "\n",
       "    .dataframe thead th {\n",
       "        text-align: right;\n",
       "    }\n",
       "</style>\n",
       "<table border=\"1\" class=\"dataframe\">\n",
       "  <thead>\n",
       "    <tr style=\"text-align: right;\">\n",
       "      <th></th>\n",
       "      <th>QY</th>\n",
       "      <th>PQ</th>\n",
       "    </tr>\n",
       "  </thead>\n",
       "  <tbody>\n",
       "    <tr>\n",
       "      <th>Dsalina</th>\n",
       "      <td>0.037</td>\n",
       "      <td>1.243</td>\n",
       "    </tr>\n",
       "    <tr>\n",
       "      <th>Ngadiitana</th>\n",
       "      <td>0.032</td>\n",
       "      <td>1.409</td>\n",
       "    </tr>\n",
       "    <tr>\n",
       "      <th>Plutheri</th>\n",
       "      <td>0.028</td>\n",
       "      <td>1.416</td>\n",
       "    </tr>\n",
       "  </tbody>\n",
       "</table>\n",
       "</div>"
      ]
     },
     "execution_count": 3,
     "metadata": {},
     "output_type": "execute_result"
    }
   ],
   "execution_count": 3
  }
 ],
 "metadata": {
  "kernelspec": {
   "display_name": "Python 3 (ipykernel)",
   "language": "python",
   "name": "python3"
  },
  "language_info": {
   "codemirror_mode": {
    "name": "ipython",
    "version": 3
   },
   "file_extension": ".py",
   "mimetype": "text/x-python",
   "name": "python",
   "nbconvert_exporter": "python",
   "pygments_lexer": "ipython3",
   "version": "3.10.13"
  }
 },
 "nbformat": 4,
 "nbformat_minor": 4
}
