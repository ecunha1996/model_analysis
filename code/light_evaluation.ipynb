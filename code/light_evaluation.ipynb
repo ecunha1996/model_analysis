{
 "cells": [
  {
   "cell_type": "code",
   "metadata": {
    "ExecuteTime": {
     "end_time": "2024-11-19T09:45:52.490808Z",
     "start_time": "2024-11-19T09:45:52.485808Z"
    }
   },
   "source": [
    "from gsmmutils.model import MyModel\n",
    "import seaborn as sns\n",
    "sns.set(rc={'figure.figsize':(35,8.27)})\n",
    "DATA_PATH = r\"../data\"\n",
    "from os.path import join\n",
    "from utils.utils import get_ps_params_multi\n",
    "from cobra.flux_analysis import pfba"
   ],
   "outputs": [],
   "execution_count": 4
  },
  {
   "cell_type": "code",
   "metadata": {
    "ExecuteTime": {
     "end_time": "2024-11-19T14:06:00.070268Z",
     "start_time": "2024-11-19T14:05:53.325025Z"
    }
   },
   "source": [
    "# ds = MyModel(join(DATA_PATH, 'models/model_ds.xml'), 'e_Biomass__cytop')\n",
    "# ds.set_prism_reaction(\"PRISM_solar_litho__extr\")\n",
    "# ds.exchanges.EX_C00205__dra.bounds = (-20000, 20000)\n",
    "# print(ds.slim_optimize())\n",
    "ng = MyModel(join(DATA_PATH, 'models/model_ng.xml'), 'e_Biomass__cytop')\n",
    "ng.exchanges.EX_C00205__dra.bounds = (-20000, 20000)\n",
    "ng.set_prism_reaction(\"PRISM_solar_litho__extr\")\n",
    "print(ng.slim_optimize())\n",
    "# pl = MyModel(join(DATA_PATH, 'models/model_pl.xml'), 'e_Biomass__cytop')\n",
    "# pl.exchanges.EX_C00205__dra.bounds = (-20000, 20000)\n",
    "# pl.set_prism_reaction(\"PRISM_fluorescent_cool_215W__extr\")\n",
    "# pl.reactions.e_Biomass_ht__cytop.bounds = (0,0)\n",
    "# print(pl.slim_optimize())"
   ],
   "outputs": [
    {
     "name": "stdout",
     "output_type": "stream",
     "text": [
      "Loading\n",
      "\n",
      "Reactions: 4433\n",
      "Metabolites: 3769\n",
      "Genes: 1333\n",
      "Model loaded\n",
      "0.407156324014842\n"
     ]
    }
   ],
   "execution_count": 362
  },
  {
   "cell_type": "code",
   "metadata": {
    "ExecuteTime": {
     "end_time": "2024-11-18T12:55:16.542110Z",
     "start_time": "2024-11-18T12:55:15.798227Z"
    }
   },
   "source": [
    "get_ps_params_multi({\"Dsalina\": ds, \"Ngadiitana\": ng, \"Plutheri\": pl})"
   ],
   "outputs": [
    {
     "data": {
      "text/plain": [
       "               QY     PQ\n",
       "Dsalina     0.037  1.243\n",
       "Ngadiitana  0.032  1.409\n",
       "Plutheri    0.028  1.416"
      ],
      "text/html": [
       "<div>\n",
       "<style scoped>\n",
       "    .dataframe tbody tr th:only-of-type {\n",
       "        vertical-align: middle;\n",
       "    }\n",
       "\n",
       "    .dataframe tbody tr th {\n",
       "        vertical-align: top;\n",
       "    }\n",
       "\n",
       "    .dataframe thead th {\n",
       "        text-align: right;\n",
       "    }\n",
       "</style>\n",
       "<table border=\"1\" class=\"dataframe\">\n",
       "  <thead>\n",
       "    <tr style=\"text-align: right;\">\n",
       "      <th></th>\n",
       "      <th>QY</th>\n",
       "      <th>PQ</th>\n",
       "    </tr>\n",
       "  </thead>\n",
       "  <tbody>\n",
       "    <tr>\n",
       "      <th>Dsalina</th>\n",
       "      <td>0.037</td>\n",
       "      <td>1.243</td>\n",
       "    </tr>\n",
       "    <tr>\n",
       "      <th>Ngadiitana</th>\n",
       "      <td>0.032</td>\n",
       "      <td>1.409</td>\n",
       "    </tr>\n",
       "    <tr>\n",
       "      <th>Plutheri</th>\n",
       "      <td>0.028</td>\n",
       "      <td>1.416</td>\n",
       "    </tr>\n",
       "  </tbody>\n",
       "</table>\n",
       "</div>"
      ]
     },
     "execution_count": 3,
     "metadata": {},
     "output_type": "execute_result"
    }
   ],
   "execution_count": 3
  },
  {
   "metadata": {
    "ExecuteTime": {
     "end_time": "2024-11-19T14:13:20.127445Z",
     "start_time": "2024-11-19T14:13:18.273023Z"
    }
   },
   "cell_type": "code",
   "source": [
    "from light_absorption import update_model\n",
    "\n",
    "with ng as model:\n",
    "    # model.reactions.R09502__chlo.bounds = (0, 0)\n",
    "    model.set_prism_reaction(\"PRISM_solar_litho__extr\")\n",
    "    coeff = sum(e for e in model.reactions.PRISM_solar_litho__extr.metabolites.values() if e > 0)\n",
    "    for rxn in model.reactions:\n",
    "        if rxn.lower_bound <= -1000:\n",
    "            rxn.lower_bound = -20000\n",
    "        if rxn.upper_bound >= 1000:\n",
    "            rxn.upper_bound = 20000\n",
    "    same_flux = model.problem.Constraint(\n",
    "        model.reactions.R00024__chlo.flux_expression * 0.025 - model.reactions.R03140__chlo.flux_expression,\n",
    "        lb=-1000,\n",
    "        ub=0)\n",
    "\n",
    "    max_cef_lef_ratio = 0.1  # sol.fluxes['CEF__chlo'] / (sol.fluxes['R01195__chlo'] + sol.fluxes['CEF__chlo']) \n",
    "    cef_constrain = model.problem.Constraint(\n",
    "        model.reactions.CEF__chlo.flux_expression * (1 - max_cef_lef_ratio) - model.reactions.R01195__chlo.flux_expression * max_cef_lef_ratio,\n",
    "        lb=-1000,\n",
    "        ub=0)\n",
    "    ue_m2s = 1000\n",
    "    max_npq = (ue_m2s * 0.0574+33.556) /100\n",
    "    if max_npq > 0.75: max_npq = 0.75\n",
    "    npq_constrain = model.problem.Constraint(\n",
    "        model.reactions.CHLAPSIIdex__chlo.flux_expression * (1-max_npq) - model.reactions.PSIICSa__chlo.flux_expression * max_npq,\n",
    "        lb=-1000,\n",
    "        ub=0)\n",
    "    model.add_cons_vars([cef_constrain, npq_constrain])\n",
    "    max_photosynthesis = {\"dsalina\": 177.8, \"ngaditana\": 136.5, \"plutheri\": 44.7}\n",
    "    step_size = {\"dsalina\": 50, \"ngaditana\": 50, \"plutheri\": 30}\n",
    "    model.reactions.PSII__lum.bounds = (0, max_photosynthesis[\"ngaditana\"])\n",
    "    npq = {}\n",
    "    # uptake = range(int(round(abs(min_val), 0)), int(round(max_val, 0)), 100)\n",
    "    ros_reactions = {\"FLV__chlo\", \"CEF__chlo\",\n",
    "                     # \"NGAM_D1__chlo\",\n",
    "                     \"R12570__chlo\", \"R09540__chlo\",\n",
    "                     \"R00274__chlo\", \"R00017__mito\",\n",
    "                     \"PSII__lum\", \"R01195__chlo\", \"PSI__lum\", \"PSIc6__lum\"\n",
    "                     }\n",
    "    photosystems = {\"PSII__lum\", \"R01195__chlo\", \"PSI__lum\", \"PSIc6__lum\"}\n",
    "    ros_reactions = {key: [0, 0, 0] for key in ros_reactions if key in model.reaction_ids}\n",
    "    ros_results_by_light = {}\n",
    "    ros_results_by_reaction = {}\n",
    "    conversion_factor = 8.33\n",
    "    mmol_gdwd = conversion_factor * ue_m2s\n",
    "    model = update_model(model, 'ngaditana', ue_m2s)\n",
    "    model.exchanges.EX_C00205__dra.bounds = (-mmol_gdwd, -mmol_gdwd)\n",
    "    ngam = ue_m2s * 0.022 + 6.85\n",
    "    # model.reactions.NGAM__lum.bounds = (ngam, ngam)\n",
    "    model.reactions.NGAM__lum.bounds = (0, 1000)\n",
    "    model.reactions.ATPm__cytop.bounds = (0, 1000)\n",
    "    model.exchanges.EX_C00011__dra.bounds = (-1000, 1000)\n",
    "    model.create_sink(\"C00138__chlo\")\n",
    "    model.create_sink(\"C00139__chlo\")\n",
    "    sol = model.maximize(value=False)\n",
    "    print(model.metabolites.C16695__lum.summary(sol))\n",
    "    # print(model.metabolites.C10385__lum.summary(sol, fva=0.99))\n",
    "    # print(model.reactions.CEF__chlo.summary(fva=1.0))"
   ],
   "outputs": [
    {
     "name": "stdout",
     "output_type": "stream",
     "text": [
      "C16695__lum\n",
      "===========\n",
      "Formula: C53H82O2\n",
      "\n",
      "Producing Reactions\n",
      "-------------------\n",
      "Percent  Flux  Reaction                                                                      Definition\n",
      " 67.33% 562.5 CEF__chlo 2.0 C00080__chlo + 2.0 C00138__chlo + C10385__lum --> 2.0 C00139__chlo + C16...\n",
      " 32.67%   273 PSII__lum 2.0 C00001__lum + 3.9996 C00080__chlo + 1.9998 C10385__lum + 4.0 p680_exc__l...\n",
      "\n",
      "Consuming Reactions\n",
      "-------------------\n",
      "Percent   Flux         Reaction                                                                      Definition\n",
      "100.00% -835.5 RXN1YI0_20__chlo 2.0 C00080__chlo + C16695__lum + 2.0 MNXM1136552__lum --> 4.0 C00080__lum + ...\n"
     ]
    }
   ],
   "execution_count": 389
  },
  {
   "metadata": {
    "ExecuteTime": {
     "end_time": "2024-11-19T14:07:04.705476Z",
     "start_time": "2024-11-19T14:07:04.697212Z"
    }
   },
   "cell_type": "code",
   "source": "sol.fluxes['CEF__chlo'] / (sol.fluxes['R01195__chlo'] + sol.fluxes['CEF__chlo'])",
   "outputs": [
    {
     "data": {
      "text/plain": [
       "0.0"
      ]
     },
     "execution_count": 370,
     "metadata": {},
     "output_type": "execute_result"
    }
   ],
   "execution_count": 370
  },
  {
   "metadata": {
    "ExecuteTime": {
     "end_time": "2024-11-19T14:07:06.560567Z",
     "start_time": "2024-11-19T14:07:06.547198Z"
    }
   },
   "cell_type": "code",
   "source": "sol.fluxes['CHLAPSIIdex__chlo'] / (sol.fluxes['PSIICSa__chlo']+sol.fluxes['CHLAPSIIdex__chlo'])",
   "outputs": [
    {
     "name": "stderr",
     "output_type": "stream",
     "text": [
      "C:\\Users\\Bisbii\\AppData\\Local\\Temp\\ipykernel_41384\\2472400463.py:1: RuntimeWarning: invalid value encountered in scalar divide\n",
      "  sol.fluxes['CHLAPSIIdex__chlo'] / (sol.fluxes['PSIICSa__chlo']+sol.fluxes['CHLAPSIIdex__chlo'])\n"
     ]
    },
    {
     "data": {
      "text/plain": [
       "nan"
      ]
     },
     "execution_count": 371,
     "metadata": {},
     "output_type": "execute_result"
    }
   ],
   "execution_count": 371
  },
  {
   "metadata": {
    "ExecuteTime": {
     "end_time": "2024-11-19T13:28:13.859162Z",
     "start_time": "2024-11-19T13:28:13.843608Z"
    }
   },
   "cell_type": "code",
   "source": "sol.fluxes['CHLAPSIdex__chlo'] / (sol.fluxes['PSICSa__chlo']+sol.fluxes['CHLAPSIdex__chlo'])",
   "outputs": [
    {
     "data": {
      "text/plain": [
       "0.5160305753674432"
      ]
     },
     "execution_count": 358,
     "metadata": {},
     "output_type": "execute_result"
    }
   ],
   "execution_count": 358
  },
  {
   "metadata": {
    "ExecuteTime": {
     "end_time": "2024-11-19T12:41:09.777960Z",
     "start_time": "2024-11-19T12:41:09.761508Z"
    }
   },
   "cell_type": "code",
   "source": "5148/(5148+1716)",
   "outputs": [
    {
     "data": {
      "text/plain": [
       "0.75"
      ]
     },
     "execution_count": 266,
     "metadata": {},
     "output_type": "execute_result"
    }
   ],
   "execution_count": 266
  },
  {
   "metadata": {
    "ExecuteTime": {
     "end_time": "2024-11-19T13:28:25.437856Z",
     "start_time": "2024-11-19T13:28:25.427796Z"
    }
   },
   "cell_type": "code",
   "source": "sol.fluxes['DM_pho_loss__chlo'] / (abs(sol.fluxes['EX_C00205__dra']) * coeff)",
   "outputs": [
    {
     "data": {
      "text/plain": [
       "0.8606476133807025"
      ]
     },
     "execution_count": 359,
     "metadata": {},
     "output_type": "execute_result"
    }
   ],
   "execution_count": 359
  },
  {
   "metadata": {
    "ExecuteTime": {
     "end_time": "2024-11-19T10:43:51.728689Z",
     "start_time": "2024-11-19T10:43:51.677688Z"
    }
   },
   "cell_type": "code",
   "source": "ng.metabolites.C16695__lum.summary(solution=sol)",
   "outputs": [
    {
     "data": {
      "text/plain": [
       "<cobra.summary.metabolite_summary.MetaboliteSummary at 0x2046f923340>"
      ],
      "text/html": [
       "<h3>C16695__lum</h3><p>C53H82O2</p><h4>Producing Reactions</h4><table border=\"1\" class=\"dataframe\">\n",
       "  <thead>\n",
       "    <tr style=\"text-align: right;\">\n",
       "      <th>Percent</th>\n",
       "      <th>Flux</th>\n",
       "      <th>Reaction</th>\n",
       "      <th>Definition</th>\n",
       "    </tr>\n",
       "  </thead>\n",
       "  <tbody>\n",
       "    <tr>\n",
       "      <td>100.00%</td>\n",
       "      <td>1011</td>\n",
       "      <td>PSII__lum</td>\n",
       "      <td>2.0 C00001__lum + 3.9996 C00080__chlo + 1.9998 C10385__lum + 4.0 p680_exc__lum + 0.0004 ps2d1__lum --&gt; C00007__lum + 4.0 C00080__lum + 1.9998 C16695__lum + 4.0 p680__lum + 0.0004 ps2d1_exc__lum</td>\n",
       "    </tr>\n",
       "  </tbody>\n",
       "</table><h4>Consuming Reactions</h4><table border=\"1\" class=\"dataframe\">\n",
       "  <thead>\n",
       "    <tr style=\"text-align: right;\">\n",
       "      <th>Percent</th>\n",
       "      <th>Flux</th>\n",
       "      <th>Reaction</th>\n",
       "      <th>Definition</th>\n",
       "    </tr>\n",
       "  </thead>\n",
       "  <tbody>\n",
       "    <tr>\n",
       "      <td>5.71%</td>\n",
       "      <td>-57.7</td>\n",
       "      <td>NGAM__lum</td>\n",
       "      <td>C00007__lum + 2.0 C16695__lum --&gt; 2.0 C00001__lum + 2.0 C10385__lum</td>\n",
       "    </tr>\n",
       "    <tr>\n",
       "      <td>94.29%</td>\n",
       "      <td>-953.1</td>\n",
       "      <td>RXN1YI0_20__chlo</td>\n",
       "      <td>2.0 C00080__chlo + C16695__lum + 2.0 MNXM1136552__lum --&gt; 4.0 C00080__lum + C10385__lum + 2.0 MNXM1136754__lum</td>\n",
       "    </tr>\n",
       "  </tbody>\n",
       "</table>"
      ]
     },
     "execution_count": 146,
     "metadata": {},
     "output_type": "execute_result"
    }
   ],
   "execution_count": 146
  }
 ],
 "metadata": {
  "kernelspec": {
   "display_name": "Python 3 (ipykernel)",
   "language": "python",
   "name": "python3"
  },
  "language_info": {
   "codemirror_mode": {
    "name": "ipython",
    "version": 3
   },
   "file_extension": ".py",
   "mimetype": "text/x-python",
   "name": "python",
   "nbconvert_exporter": "python",
   "pygments_lexer": "ipython3",
   "version": "3.10.13"
  }
 },
 "nbformat": 4,
 "nbformat_minor": 4
}
