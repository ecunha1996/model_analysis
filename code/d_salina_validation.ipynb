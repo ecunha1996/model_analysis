{
 "cells": [
  {
   "cell_type": "code",
   "execution_count": 1,
   "id": "initial_id",
   "metadata": {
    "ExecuteTime": {
     "end_time": "2024-03-08T14:50:19.321565Z",
     "start_time": "2024-03-08T14:50:19.310435Z"
    }
   },
   "outputs": [],
   "source": [
    "from gsmmutils import ModelValidator, MyModel\n",
    "from cobra.flux_analysis import pfba\n",
    "import gsmmutils.utils.utils\n",
    "gsmmutils.DATA_PATH = \"../data\"\n",
    "from utils import *"
   ]
  },
  {
   "cell_type": "code",
   "execution_count": 2,
   "id": "b8259d7fc0426f78",
   "metadata": {
    "ExecuteTime": {
     "end_time": "2024-03-08T14:50:30.451464Z",
     "start_time": "2024-03-08T14:50:20.601597Z"
    },
    "jupyter": {
     "outputs_hidden": false
    }
   },
   "outputs": [
    {
     "name": "stdout",
     "output_type": "stream",
     "text": [
      "Loading\n",
      "\n",
      "Reactions: 4583\n",
      "Metabolites: 3732\n",
      "Genes: 1693\n",
      "Model loaded\n"
     ]
    },
    {
     "name": "stderr",
     "output_type": "stream",
     "text": [
      "/home/ecunha/miniforge3/envs/model_analysis/lib/python3.10/site-packages/cobra/medium/boundary_types.py:97: FutureWarning: Series.__getitem__ treating keys as positions is deprecated. In a future version, integer keys will always be treated as labels (consistent with DataFrame behavior). To access a value by position, use `ser.iloc[pos]`\n",
      "  return most[0]\n"
     ]
    }
   ],
   "source": [
    "model = MyModel(r\"../data/model_with_media.xml\", \"e_Biomass__cytop\")\n",
    "mv = ModelValidator(model, \"ATPm__cytop\")"
   ]
  },
  {
   "cell_type": "code",
   "execution_count": 3,
   "id": "d2a771d5de9d3960",
   "metadata": {
    "ExecuteTime": {
     "start_time": "2024-03-08T14:47:43.700617Z"
    },
    "jupyter": {
     "outputs_hidden": false
    }
   },
   "outputs": [],
   "source": [
    "# mv.validate()"
   ]
  },
  {
   "cell_type": "markdown",
   "id": "a40d78f63002fe45",
   "metadata": {
    "jupyter": {
     "outputs_hidden": false
    }
   },
   "source": [
    "Check general growth rate"
   ]
  },
  {
   "cell_type": "code",
   "execution_count": 4,
   "id": "82b7d9365ff376b",
   "metadata": {
    "ExecuteTime": {
     "end_time": "2024-03-08T14:50:36.712895Z",
     "start_time": "2024-03-08T14:50:30.453464Z"
    },
    "jupyter": {
     "outputs_hidden": false
    }
   },
   "outputs": [
    {
     "name": "stdout",
     "output_type": "stream",
     "text": [
      "Running pFBA\n"
     ]
    },
    {
     "data": {
      "text/html": [
       "<h3>Objective</h3><p>1.0 e_Biomass__cytop = 0.19948218668943507</p><h4>Uptake</h4><table border=\"1\" class=\"dataframe\">\n",
       "  <thead>\n",
       "    <tr style=\"text-align: right;\">\n",
       "      <th>Metabolite</th>\n",
       "      <th>Reaction</th>\n",
       "      <th>Flux</th>\n",
       "      <th>C-Number</th>\n",
       "      <th>C-Flux</th>\n",
       "    </tr>\n",
       "  </thead>\n",
       "  <tbody>\n",
       "    <tr>\n",
       "      <td>C00001__extr</td>\n",
       "      <td>EX_C00001__dra</td>\n",
       "      <td>6.745</td>\n",
       "      <td>0</td>\n",
       "      <td>0.00%</td>\n",
       "    </tr>\n",
       "    <tr>\n",
       "      <td>C00009__extr</td>\n",
       "      <td>EX_C00009__dra</td>\n",
       "      <td>0.03147</td>\n",
       "      <td>0</td>\n",
       "      <td>0.00%</td>\n",
       "    </tr>\n",
       "    <tr>\n",
       "      <td>C00011__extr</td>\n",
       "      <td>EX_C00011__dra</td>\n",
       "      <td>8.21</td>\n",
       "      <td>1</td>\n",
       "      <td>99.75%</td>\n",
       "    </tr>\n",
       "    <tr>\n",
       "      <td>C00059__extr</td>\n",
       "      <td>EX_C00059__dra</td>\n",
       "      <td>0.02092</td>\n",
       "      <td>0</td>\n",
       "      <td>0.00%</td>\n",
       "    </tr>\n",
       "    <tr>\n",
       "      <td>C00080__extr</td>\n",
       "      <td>EX_C00080__dra</td>\n",
       "      <td>0.05308</td>\n",
       "      <td>0</td>\n",
       "      <td>0.00%</td>\n",
       "    </tr>\n",
       "    <tr>\n",
       "      <td>C00120__extr</td>\n",
       "      <td>EX_C00120__dra</td>\n",
       "      <td>0.0007589</td>\n",
       "      <td>10</td>\n",
       "      <td>0.09%</td>\n",
       "    </tr>\n",
       "    <tr>\n",
       "      <td>C00205__extr</td>\n",
       "      <td>EX_C00205__dra</td>\n",
       "      <td>95.86</td>\n",
       "      <td>0</td>\n",
       "      <td>0.00%</td>\n",
       "    </tr>\n",
       "    <tr>\n",
       "      <td>C00244__extr</td>\n",
       "      <td>EX_C00244__dra</td>\n",
       "      <td>0.5173</td>\n",
       "      <td>0</td>\n",
       "      <td>0.00%</td>\n",
       "    </tr>\n",
       "    <tr>\n",
       "      <td>C00305__extr</td>\n",
       "      <td>EX_C00305__dra</td>\n",
       "      <td>0.0001463</td>\n",
       "      <td>0</td>\n",
       "      <td>0.00%</td>\n",
       "    </tr>\n",
       "    <tr>\n",
       "      <td>C00378__extr</td>\n",
       "      <td>EX_C00378__dra</td>\n",
       "      <td>0.0004362</td>\n",
       "      <td>12</td>\n",
       "      <td>0.06%</td>\n",
       "    </tr>\n",
       "    <tr>\n",
       "      <td>C02823__extr</td>\n",
       "      <td>EX_C02823__dra</td>\n",
       "      <td>0.0001169</td>\n",
       "      <td>63</td>\n",
       "      <td>0.09%</td>\n",
       "    </tr>\n",
       "    <tr>\n",
       "      <td>C14818__extr</td>\n",
       "      <td>EX_C14818__dra</td>\n",
       "      <td>0.002401</td>\n",
       "      <td>0</td>\n",
       "      <td>0.00%</td>\n",
       "    </tr>\n",
       "  </tbody>\n",
       "</table><h4>Secretion</h4><table border=\"1\" class=\"dataframe\">\n",
       "  <thead>\n",
       "    <tr style=\"text-align: right;\">\n",
       "      <th>Metabolite</th>\n",
       "      <th>Reaction</th>\n",
       "      <th>Flux</th>\n",
       "      <th>C-Number</th>\n",
       "      <th>C-Flux</th>\n",
       "    </tr>\n",
       "  </thead>\n",
       "  <tbody>\n",
       "    <tr>\n",
       "      <td>photon298__cytop</td>\n",
       "      <td>DM_photon298__cytop</td>\n",
       "      <td>-2.994E-05</td>\n",
       "      <td>0</td>\n",
       "      <td>0.00%</td>\n",
       "    </tr>\n",
       "    <tr>\n",
       "      <td>photon437__lum</td>\n",
       "      <td>DM_photon437__lum</td>\n",
       "      <td>-0.0003512</td>\n",
       "      <td>0</td>\n",
       "      <td>0.00%</td>\n",
       "    </tr>\n",
       "    <tr>\n",
       "      <td>photon450__chlo</td>\n",
       "      <td>DM_photon450__chlo</td>\n",
       "      <td>-0.000292</td>\n",
       "      <td>0</td>\n",
       "      <td>0.00%</td>\n",
       "    </tr>\n",
       "    <tr>\n",
       "      <td>photon646__chlo</td>\n",
       "      <td>DM_photon646__chlo</td>\n",
       "      <td>-25.47</td>\n",
       "      <td>0</td>\n",
       "      <td>0.00%</td>\n",
       "    </tr>\n",
       "    <tr>\n",
       "      <td>photon680__lum</td>\n",
       "      <td>DM_photon680__lum</td>\n",
       "      <td>-6.754</td>\n",
       "      <td>0</td>\n",
       "      <td>0.00%</td>\n",
       "    </tr>\n",
       "    <tr>\n",
       "      <td>C00007__extr</td>\n",
       "      <td>EX_C00007__dra</td>\n",
       "      <td>-10.2</td>\n",
       "      <td>0</td>\n",
       "      <td>0.00%</td>\n",
       "    </tr>\n",
       "    <tr>\n",
       "      <td>C00177__extr</td>\n",
       "      <td>EX_C00177__dra</td>\n",
       "      <td>-0.0001169</td>\n",
       "      <td>1</td>\n",
       "      <td>100.00%</td>\n",
       "    </tr>\n",
       "  </tbody>\n",
       "</table>"
      ],
      "text/plain": [
       "<cobra.summary.model_summary.ModelSummary at 0x7fbbd5989960>"
      ]
     },
     "execution_count": 4,
     "metadata": {},
     "output_type": "execute_result"
    }
   ],
   "source": [
    "model.summary()"
   ]
  },
  {
   "cell_type": "code",
   "execution_count": 5,
   "id": "9ace3699-2926-435d-a676-24505659ca9d",
   "metadata": {},
   "outputs": [
    {
     "name": "stderr",
     "output_type": "stream",
     "text": [
      "/home/ecunha/miniforge3/envs/model_analysis/lib/python3.10/site-packages/cobra/medium/boundary_types.py:97: FutureWarning: Series.__getitem__ treating keys as positions is deprecated. In a future version, integer keys will always be treated as labels (consistent with DataFrame behavior). To access a value by position, use `ser.iloc[pos]`\n",
      "  return most[0]\n"
     ]
    },
    {
     "name": "stdout",
     "output_type": "stream",
     "text": [
      "Running pFBA\n"
     ]
    },
    {
     "data": {
      "text/html": [
       "<h3>Objective</h3><p>1.0 e_Biomass__cytop = 0.24807711645072839</p><h4>Uptake</h4><table border=\"1\" class=\"dataframe\">\n",
       "  <thead>\n",
       "    <tr style=\"text-align: right;\">\n",
       "      <th>Metabolite</th>\n",
       "      <th>Reaction</th>\n",
       "      <th>Flux</th>\n",
       "      <th>C-Number</th>\n",
       "      <th>C-Flux</th>\n",
       "    </tr>\n",
       "  </thead>\n",
       "  <tbody>\n",
       "    <tr>\n",
       "      <td>C00001__extr</td>\n",
       "      <td>EX_C00001__dra</td>\n",
       "      <td>6.888</td>\n",
       "      <td>0</td>\n",
       "      <td>0.00%</td>\n",
       "    </tr>\n",
       "    <tr>\n",
       "      <td>C00009__extr</td>\n",
       "      <td>EX_C00009__dra</td>\n",
       "      <td>0.03914</td>\n",
       "      <td>0</td>\n",
       "      <td>0.00%</td>\n",
       "    </tr>\n",
       "    <tr>\n",
       "      <td>C00011__extr</td>\n",
       "      <td>EX_C00011__dra</td>\n",
       "      <td>8.21</td>\n",
       "      <td>1</td>\n",
       "      <td>80.21%</td>\n",
       "    </tr>\n",
       "    <tr>\n",
       "      <td>C00033__extr</td>\n",
       "      <td>EX_C00033__dra</td>\n",
       "      <td>1</td>\n",
       "      <td>2</td>\n",
       "      <td>19.54%</td>\n",
       "    </tr>\n",
       "    <tr>\n",
       "      <td>C00059__extr</td>\n",
       "      <td>EX_C00059__dra</td>\n",
       "      <td>0.02601</td>\n",
       "      <td>0</td>\n",
       "      <td>0.00%</td>\n",
       "    </tr>\n",
       "    <tr>\n",
       "      <td>C00080__extr</td>\n",
       "      <td>EX_C00080__dra</td>\n",
       "      <td>0.06601</td>\n",
       "      <td>0</td>\n",
       "      <td>0.00%</td>\n",
       "    </tr>\n",
       "    <tr>\n",
       "      <td>C00120__extr</td>\n",
       "      <td>EX_C00120__dra</td>\n",
       "      <td>0.0009438</td>\n",
       "      <td>10</td>\n",
       "      <td>0.09%</td>\n",
       "    </tr>\n",
       "    <tr>\n",
       "      <td>C00205__extr</td>\n",
       "      <td>EX_C00205__dra</td>\n",
       "      <td>102.7</td>\n",
       "      <td>0</td>\n",
       "      <td>0.00%</td>\n",
       "    </tr>\n",
       "    <tr>\n",
       "      <td>C00244__extr</td>\n",
       "      <td>EX_C00244__dra</td>\n",
       "      <td>0.6433</td>\n",
       "      <td>0</td>\n",
       "      <td>0.00%</td>\n",
       "    </tr>\n",
       "    <tr>\n",
       "      <td>C00305__extr</td>\n",
       "      <td>EX_C00305__dra</td>\n",
       "      <td>0.0001819</td>\n",
       "      <td>0</td>\n",
       "      <td>0.00%</td>\n",
       "    </tr>\n",
       "    <tr>\n",
       "      <td>C00378__extr</td>\n",
       "      <td>EX_C00378__dra</td>\n",
       "      <td>0.0005425</td>\n",
       "      <td>12</td>\n",
       "      <td>0.06%</td>\n",
       "    </tr>\n",
       "    <tr>\n",
       "      <td>C02823__extr</td>\n",
       "      <td>EX_C02823__dra</td>\n",
       "      <td>0.0001453</td>\n",
       "      <td>63</td>\n",
       "      <td>0.09%</td>\n",
       "    </tr>\n",
       "    <tr>\n",
       "      <td>C14818__extr</td>\n",
       "      <td>EX_C14818__dra</td>\n",
       "      <td>0.002986</td>\n",
       "      <td>0</td>\n",
       "      <td>0.00%</td>\n",
       "    </tr>\n",
       "  </tbody>\n",
       "</table><h4>Secretion</h4><table border=\"1\" class=\"dataframe\">\n",
       "  <thead>\n",
       "    <tr style=\"text-align: right;\">\n",
       "      <th>Metabolite</th>\n",
       "      <th>Reaction</th>\n",
       "      <th>Flux</th>\n",
       "      <th>C-Number</th>\n",
       "      <th>C-Flux</th>\n",
       "    </tr>\n",
       "  </thead>\n",
       "  <tbody>\n",
       "    <tr>\n",
       "      <td>photon298__cytop</td>\n",
       "      <td>DM_photon298__cytop</td>\n",
       "      <td>-3.723E-05</td>\n",
       "      <td>0</td>\n",
       "      <td>0.00%</td>\n",
       "    </tr>\n",
       "    <tr>\n",
       "      <td>photon437__lum</td>\n",
       "      <td>DM_photon437__lum</td>\n",
       "      <td>-0.0004367</td>\n",
       "      <td>0</td>\n",
       "      <td>0.00%</td>\n",
       "    </tr>\n",
       "    <tr>\n",
       "      <td>photon450__chlo</td>\n",
       "      <td>DM_photon450__chlo</td>\n",
       "      <td>-0.000545</td>\n",
       "      <td>0</td>\n",
       "      <td>0.00%</td>\n",
       "    </tr>\n",
       "    <tr>\n",
       "      <td>photon646__chlo</td>\n",
       "      <td>DM_photon646__chlo</td>\n",
       "      <td>-27.28</td>\n",
       "      <td>0</td>\n",
       "      <td>0.00%</td>\n",
       "    </tr>\n",
       "    <tr>\n",
       "      <td>photon680__lum</td>\n",
       "      <td>DM_photon680__lum</td>\n",
       "      <td>-8.074</td>\n",
       "      <td>0</td>\n",
       "      <td>0.00%</td>\n",
       "    </tr>\n",
       "    <tr>\n",
       "      <td>C00007__extr</td>\n",
       "      <td>EX_C00007__dra</td>\n",
       "      <td>-10.94</td>\n",
       "      <td>0</td>\n",
       "      <td>0.00%</td>\n",
       "    </tr>\n",
       "    <tr>\n",
       "      <td>C00177__extr</td>\n",
       "      <td>EX_C00177__dra</td>\n",
       "      <td>-0.0001453</td>\n",
       "      <td>1</td>\n",
       "      <td>100.00%</td>\n",
       "    </tr>\n",
       "  </tbody>\n",
       "</table>"
      ],
      "text/plain": [
       "<cobra.summary.model_summary.ModelSummary at 0x7f9b5bcea5c0>"
      ]
     },
     "execution_count": 5,
     "metadata": {},
     "output_type": "execute_result"
    }
   ],
   "source": [
    "hetero_model = model.copy()\n",
    "hetero_model.exchanges.EX_C00033__dra.bounds = (-1, 1000)\n",
    "hetero_model.summary()"
   ]
  },
  {
   "cell_type": "code",
   "execution_count": 6,
   "id": "33ffc1f4-83a2-4513-a010-ae1b5c66bc55",
   "metadata": {},
   "outputs": [
    {
     "name": "stderr",
     "output_type": "stream",
     "text": [
      "/home/ecunha/miniforge3/envs/model_analysis/lib/python3.10/site-packages/cobra/medium/boundary_types.py:97: FutureWarning: Series.__getitem__ treating keys as positions is deprecated. In a future version, integer keys will always be treated as labels (consistent with DataFrame behavior). To access a value by position, use `ser.iloc[pos]`\n",
      "  return most[0]\n",
      "/home/ecunha/miniforge3/envs/model_analysis/lib/python3.10/site-packages/cobra/medium/boundary_types.py:97: FutureWarning: Series.__getitem__ treating keys as positions is deprecated. In a future version, integer keys will always be treated as labels (consistent with DataFrame behavior). To access a value by position, use `ser.iloc[pos]`\n",
      "  return most[0]\n"
     ]
    },
    {
     "name": "stdout",
     "output_type": "stream",
     "text": [
      "Running pFBA\n"
     ]
    },
    {
     "data": {
      "text/html": [
       "<h3>Objective</h3><p>1.0 e_Biomass__cytop = 0.1994821866894371</p><h4>Uptake</h4><table border=\"1\" class=\"dataframe\">\n",
       "  <thead>\n",
       "    <tr style=\"text-align: right;\">\n",
       "      <th>Metabolite</th>\n",
       "      <th>Reaction</th>\n",
       "      <th>Flux</th>\n",
       "      <th>C-Number</th>\n",
       "      <th>C-Flux</th>\n",
       "    </tr>\n",
       "  </thead>\n",
       "  <tbody>\n",
       "    <tr>\n",
       "      <td>C00001__extr</td>\n",
       "      <td>EX_C00001__dra</td>\n",
       "      <td>6.745</td>\n",
       "      <td>0</td>\n",
       "      <td>0.00%</td>\n",
       "    </tr>\n",
       "    <tr>\n",
       "      <td>C00009__extr</td>\n",
       "      <td>EX_C00009__dra</td>\n",
       "      <td>0.03147</td>\n",
       "      <td>0</td>\n",
       "      <td>0.00%</td>\n",
       "    </tr>\n",
       "    <tr>\n",
       "      <td>C00011__extr</td>\n",
       "      <td>EX_C00011__dra</td>\n",
       "      <td>8.21</td>\n",
       "      <td>1</td>\n",
       "      <td>99.75%</td>\n",
       "    </tr>\n",
       "    <tr>\n",
       "      <td>C00059__extr</td>\n",
       "      <td>EX_C00059__dra</td>\n",
       "      <td>0.02092</td>\n",
       "      <td>0</td>\n",
       "      <td>0.00%</td>\n",
       "    </tr>\n",
       "    <tr>\n",
       "      <td>C00080__extr</td>\n",
       "      <td>EX_C00080__dra</td>\n",
       "      <td>0.05308</td>\n",
       "      <td>0</td>\n",
       "      <td>0.00%</td>\n",
       "    </tr>\n",
       "    <tr>\n",
       "      <td>C00120__extr</td>\n",
       "      <td>EX_C00120__dra</td>\n",
       "      <td>0.0007589</td>\n",
       "      <td>10</td>\n",
       "      <td>0.09%</td>\n",
       "    </tr>\n",
       "    <tr>\n",
       "      <td>C00205__extr</td>\n",
       "      <td>EX_C00205__dra</td>\n",
       "      <td>95.86</td>\n",
       "      <td>0</td>\n",
       "      <td>0.00%</td>\n",
       "    </tr>\n",
       "    <tr>\n",
       "      <td>C00244__extr</td>\n",
       "      <td>EX_C00244__dra</td>\n",
       "      <td>0.5173</td>\n",
       "      <td>0</td>\n",
       "      <td>0.00%</td>\n",
       "    </tr>\n",
       "    <tr>\n",
       "      <td>C00305__extr</td>\n",
       "      <td>EX_C00305__dra</td>\n",
       "      <td>0.0001463</td>\n",
       "      <td>0</td>\n",
       "      <td>0.00%</td>\n",
       "    </tr>\n",
       "    <tr>\n",
       "      <td>C00378__extr</td>\n",
       "      <td>EX_C00378__dra</td>\n",
       "      <td>0.0004362</td>\n",
       "      <td>12</td>\n",
       "      <td>0.06%</td>\n",
       "    </tr>\n",
       "    <tr>\n",
       "      <td>C02823__extr</td>\n",
       "      <td>EX_C02823__dra</td>\n",
       "      <td>0.0001169</td>\n",
       "      <td>63</td>\n",
       "      <td>0.09%</td>\n",
       "    </tr>\n",
       "    <tr>\n",
       "      <td>C14818__extr</td>\n",
       "      <td>EX_C14818__dra</td>\n",
       "      <td>0.002401</td>\n",
       "      <td>0</td>\n",
       "      <td>0.00%</td>\n",
       "    </tr>\n",
       "  </tbody>\n",
       "</table><h4>Secretion</h4><table border=\"1\" class=\"dataframe\">\n",
       "  <thead>\n",
       "    <tr style=\"text-align: right;\">\n",
       "      <th>Metabolite</th>\n",
       "      <th>Reaction</th>\n",
       "      <th>Flux</th>\n",
       "      <th>C-Number</th>\n",
       "      <th>C-Flux</th>\n",
       "    </tr>\n",
       "  </thead>\n",
       "  <tbody>\n",
       "    <tr>\n",
       "      <td>photon298__cytop</td>\n",
       "      <td>DM_photon298__cytop</td>\n",
       "      <td>-2.994E-05</td>\n",
       "      <td>0</td>\n",
       "      <td>0.00%</td>\n",
       "    </tr>\n",
       "    <tr>\n",
       "      <td>photon437__lum</td>\n",
       "      <td>DM_photon437__lum</td>\n",
       "      <td>-0.0003512</td>\n",
       "      <td>0</td>\n",
       "      <td>0.00%</td>\n",
       "    </tr>\n",
       "    <tr>\n",
       "      <td>photon450__chlo</td>\n",
       "      <td>DM_photon450__chlo</td>\n",
       "      <td>-0.0004382</td>\n",
       "      <td>0</td>\n",
       "      <td>0.00%</td>\n",
       "    </tr>\n",
       "    <tr>\n",
       "      <td>photon646__chlo</td>\n",
       "      <td>DM_photon646__chlo</td>\n",
       "      <td>-25.47</td>\n",
       "      <td>0</td>\n",
       "      <td>0.00%</td>\n",
       "    </tr>\n",
       "    <tr>\n",
       "      <td>photon680__lum</td>\n",
       "      <td>DM_photon680__lum</td>\n",
       "      <td>-6.754</td>\n",
       "      <td>0</td>\n",
       "      <td>0.00%</td>\n",
       "    </tr>\n",
       "    <tr>\n",
       "      <td>C00007__extr</td>\n",
       "      <td>EX_C00007__dra</td>\n",
       "      <td>-10.2</td>\n",
       "      <td>0</td>\n",
       "      <td>0.00%</td>\n",
       "    </tr>\n",
       "    <tr>\n",
       "      <td>C00177__extr</td>\n",
       "      <td>EX_C00177__dra</td>\n",
       "      <td>-0.0001169</td>\n",
       "      <td>1</td>\n",
       "      <td>100.00%</td>\n",
       "    </tr>\n",
       "  </tbody>\n",
       "</table>"
      ],
      "text/plain": [
       "<cobra.summary.model_summary.ModelSummary at 0x7f9b5bceba00>"
      ]
     },
     "execution_count": 6,
     "metadata": {},
     "output_type": "execute_result"
    }
   ],
   "source": [
    "hetero_model.exchanges.EX_C00033__dra.bounds = (0, 1000)\n",
    "hetero_model.exchanges.EX_C00221__dra.bounds = (-1, 1000)\n",
    "hetero_model.summary()"
   ]
  },
  {
   "cell_type": "markdown",
   "id": "70cd0bf7e3cc2ad6",
   "metadata": {
    "jupyter": {
     "outputs_hidden": false
    }
   },
   "source": [
    "Check the growth rate for each condition"
   ]
  },
  {
   "cell_type": "code",
   "execution_count": 7,
   "id": "84dcddf83aff17ca",
   "metadata": {
    "ExecuteTime": {
     "start_time": "2024-03-08T14:47:43.703620Z"
    },
    "jupyter": {
     "outputs_hidden": false
    }
   },
   "outputs": [],
   "source": [
    "#matrix = experimental_data_processing(\"../data/Matriz- DCCR Dunaliella salina_dfba.xlsx\", model)\n",
    "#matrix.conditions = \"Resume\"\n",
    "#print(\"Simulating\")\n",
    "#simulations(matrix, model)"
   ]
  },
  {
   "cell_type": "code",
   "execution_count": 8,
   "id": "bd8682cd-8ae3-445b-b26a-30011ebfcec7",
   "metadata": {},
   "outputs": [
    {
     "name": "stdout",
     "output_type": "stream",
     "text": [
      "optimal\n"
     ]
    }
   ],
   "source": [
    "from cobra.flux_analysis import flux_variability_analysis as fva\n",
    "with model as temp_model:\n",
    "    constraint = temp_model.problem.Constraint(\n",
    "            temp_model.reactions.EX_C00205__dra.flux_expression + temp_model.reactions.R09542_hn437__chlo.flux_expression + \n",
    "        temp_model.reactions.R09542_hn680__chlo.flux_expression\n",
    "        +temp_model.reactions.R09503_hn438__lum.flux_expression*4 + temp_model.reactions.R09503_hn673__lum.flux_expression*4,\n",
    "            lb=0,\n",
    "            ub=0)\n",
    "    temp_model.add_cons_vars(constraint)\n",
    "    constraint = temp_model.problem.Constraint(\n",
    "            temp_model.reactions.R09503_hn438__lum.flux_expression + temp_model.reactions.R09503_hn673__lum.flux_expression,\n",
    "            lb=0,\n",
    "            ub=199.44)\n",
    "    temp_model.add_cons_vars(constraint)\n",
    "    sol = temp_model.optimize()\n",
    "    fva_sol = fva(temp_model, [\"EX_C00205__dra\", \"R09542_hn437__chlo\", \"R09542_hn680__chlo\", \"R09503_hn438__lum\", \"R09503_hn673__lum\"], fraction_of_optimum=1.0)\n",
    "    print(sol.status)"
   ]
  },
  {
   "cell_type": "code",
   "execution_count": 9,
   "id": "38ae2ad9-4ed2-4b99-bcf6-5941087bc167",
   "metadata": {},
   "outputs": [
    {
     "name": "stderr",
     "output_type": "stream",
     "text": [
      "/home/ecunha/miniforge3/envs/model_analysis/lib/python3.10/site-packages/cobra/medium/boundary_types.py:97: FutureWarning: Series.__getitem__ treating keys as positions is deprecated. In a future version, integer keys will always be treated as labels (consistent with DataFrame behavior). To access a value by position, use `ser.iloc[pos]`\n",
      "  return most[0]\n",
      "/home/ecunha/miniforge3/envs/model_analysis/lib/python3.10/site-packages/cobra/medium/boundary_types.py:97: FutureWarning: Series.__getitem__ treating keys as positions is deprecated. In a future version, integer keys will always be treated as labels (consistent with DataFrame behavior). To access a value by position, use `ser.iloc[pos]`\n",
      "  return most[0]\n",
      "/home/ecunha/miniforge3/envs/model_analysis/lib/python3.10/site-packages/cobra/medium/boundary_types.py:97: FutureWarning: Series.__getitem__ treating keys as positions is deprecated. In a future version, integer keys will always be treated as labels (consistent with DataFrame behavior). To access a value by position, use `ser.iloc[pos]`\n",
      "  return most[0]\n"
     ]
    },
    {
     "name": "stdout",
     "output_type": "stream",
     "text": [
      "optimal\n",
      "Objective\n",
      "=========\n",
      "1.0 DM_C02094__chlo = 0.2052500000000002\n",
      "\n",
      "Uptake\n",
      "------\n",
      "  Metabolite       Reaction  Flux  C-Number  C-Flux\n",
      "C00001__extr EX_C00001__dra 5.747         0   0.00%\n",
      "C00011__extr EX_C00011__dra  8.21         1 100.00%\n",
      "C00205__extr EX_C00205__dra   269         0   0.00%\n",
      "C00244__extr EX_C00244__dra     1         0   0.00%\n",
      "C00305__extr EX_C00305__dra 75.28         0   0.00%\n",
      "\n",
      "Secretion\n",
      "---------\n",
      "     Metabolite           Reaction    Flux  C-Number  C-Flux\n",
      "  C00244__cytop   DM_C00244__cytop      -1         0   0.00%\n",
      "   C00305__vacu    DM_C00305__vacu  -75.28         0   0.00%\n",
      "   C02094__chlo    DM_C02094__chlo -0.2053        40 100.00%\n",
      "photon646__chlo DM_photon646__chlo  -71.49         0   0.00%\n",
      " photon680__lum  DM_photon680__lum   -81.7         0   0.00%\n",
      "   C00007__extr     EX_C00007__dra  -11.08         0   0.00%\n",
      "\n"
     ]
    }
   ],
   "source": [
    "with model as tmp_model:\n",
    "    tmp_model.exchanges.EX_C00244__dra.bounds = (-1,-1)\n",
    "    # tmp_model.exchanges.EX_C00205__dra.bounds = (-500,-500)\n",
    "    tmp_model.exchanges.EX_C00533__dra.bounds = (0,0)\n",
    "    tmp_model.exchanges.EX_C00014__dra.bounds = (0,0)\n",
    "    tmp_model.objective = \"DM_C02094__chlo\"\n",
    "    sol = tmp_model.optimize()\n",
    "    print(sol.status)\n",
    "    print(tmp_model.summary(sol))\n",
    "    # print(model.metabolites.C00533__chlo.summary(sol))"
   ]
  }
 ],
 "metadata": {
  "kernelspec": {
   "display_name": "Python 3 (ipykernel)",
   "language": "python",
   "name": "python3"
  },
  "language_info": {
   "codemirror_mode": {
    "name": "ipython",
    "version": 3
   },
   "file_extension": ".py",
   "mimetype": "text/x-python",
   "name": "python",
   "nbconvert_exporter": "python",
   "pygments_lexer": "ipython3",
   "version": "3.10.13"
  }
 },
 "nbformat": 4,
 "nbformat_minor": 5
}
