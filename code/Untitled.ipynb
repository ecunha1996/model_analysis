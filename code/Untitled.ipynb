{
 "cells": [
  {
   "cell_type": "code",
   "id": "4db98327-d105-44a4-9286-d038ab7b26a2",
   "metadata": {
    "ExecuteTime": {
     "end_time": "2024-08-16T15:48:46.500780Z",
     "start_time": "2024-08-16T15:48:46.493781Z"
    }
   },
   "source": [
    "from cobra.flux_analysis import flux_variability_analysis as fva\n",
    "import os\n",
    "from cobra import Reaction, Metabolite\n",
    "import sys\n",
    "sys.path.append(\"/home/emanuel/PythonProjects/GSMMutils/src\")\n",
    "from gsmmutils.model.COBRAmodel import MyModel\n",
    "os.chdir(\"../data\")"
   ],
   "outputs": [],
   "execution_count": 682
  },
  {
   "metadata": {
    "ExecuteTime": {
     "end_time": "2024-08-16T15:48:51.072807Z",
     "start_time": "2024-08-16T15:48:46.518904Z"
    }
   },
   "cell_type": "code",
   "source": [
    "model = MyModel('model.xml', \"e_Biomass__cytop\")\n",
    "model.exchanges.EX_C00011__dra.lower_bound = -8.21"
   ],
   "id": "11c72576ff54dc71",
   "outputs": [
    {
     "name": "stdout",
     "output_type": "stream",
     "text": [
      "Loading\n",
      "\n",
      "Reactions: 4522\n",
      "Metabolites: 3681\n",
      "Genes: 1696\n",
      "Model loaded\n"
     ]
    }
   ],
   "execution_count": 683
  },
  {
   "metadata": {
    "ExecuteTime": {
     "end_time": "2024-08-16T15:48:51.077291Z",
     "start_time": "2024-08-16T15:48:51.074077Z"
    }
   },
   "cell_type": "code",
   "source": [
    "model.reactions.R09503_hn438__lum.bounds = (0, 0)\n",
    "model.reactions.R09503_hn673__lum.bounds = (0, 0)\n",
    "model.reactions.R09542_hn437__chlo.bounds = (0, 0)\n",
    "model.reactions.R09542_hn680__chlo.bounds = (0, 0)\n",
    "model.reactions.ATPm__cytop.bounds = (0, 0)"
   ],
   "id": "198e59102bd880dd",
   "outputs": [],
   "execution_count": 684
  },
  {
   "metadata": {
    "ExecuteTime": {
     "end_time": "2024-08-16T15:48:51.106432Z",
     "start_time": "2024-08-16T15:48:51.078154Z"
    }
   },
   "cell_type": "code",
   "source": [
    "to_add = []\n",
    "p680_um = Metabolite('p680_um__chlo', name = 'P680', compartment=\"chlo\")\n",
    "p680_exc_um = Metabolite('p680_exc_um__chlo', name='P680 exc', compartment=\"chlo\")\n",
    "\n",
    "PSIICSum = Reaction('PSIICSum')\n",
    "PSIICSum.add_metabolites({p680_um: -1, model.metabolites.chla_qy2_exc__chlo:-1,\n",
    "                          p680_exc_um: 1, model.metabolites.C05306__chlo:1})\n",
    "\n",
    "to_add.append(PSIICSum)\n",
    "model.add_reactions(to_add)\n",
    "\n",
    "to_add = []\n",
    "\n",
    "PSIICSum = Reaction('PSIICSum_chlb')\n",
    "PSIICSum.add_metabolites({p680_um: -1, model.metabolites.chlb_qy2_exc__chlo:-1,\n",
    "                          p680_exc_um: 1, model.metabolites.C05307__chlo:1})\n",
    "\n",
    "to_add.append(PSIICSum)\n",
    "model.add_reactions(to_add)\n",
    "\n",
    "to_add = []\n",
    "p700_um = Metabolite('p700_um__chlo', name = 'P700', compartment=\"chlo\")\n",
    "p700_exc_um = Metabolite('p700_exc_um__chlo', name='P700 exc', compartment=\"chlo\")\n",
    "\n",
    "PSICSum = Reaction('PSICSum')\n",
    "PSICSum.add_metabolites({p700_um: -1, model.metabolites.chla_qy1_exc__chlo:-1,\n",
    "                          p700_exc_um: 1, model.metabolites.C05306__chlo:1})\n",
    "\n",
    "to_add.append(PSICSum)\n",
    "model.add_reactions(to_add)\n",
    "\n",
    "\n",
    "to_add = []\n",
    "\n",
    "PSICSum_chlb = Reaction('PSICSum_chlb')\n",
    "PSICSum_chlb.add_metabolites({p700_um: -1, model.metabolites.chlb_qy1_exc__chlo:-1,\n",
    "                          p700_exc_um: 1, model.metabolites.C05307__chlo:1})\n",
    "\n",
    "to_add.append(PSICSum_chlb)\n",
    "model.add_reactions(to_add)"
   ],
   "id": "26e1f94c15c99642",
   "outputs": [],
   "execution_count": 685
  },
  {
   "metadata": {
    "ExecuteTime": {
     "end_time": "2024-08-16T15:48:51.123247Z",
     "start_time": "2024-08-16T15:48:51.107761Z"
    }
   },
   "cell_type": "code",
   "source": [
    "to_add = []\n",
    "ps2d1_um = Metabolite('ps2d1_um__chlo', name = 'PS2 D1')\n",
    "ps2d1_exc_um = Metabolite('ps2d1_exc_um__chlo', name='PS2 D1 exc')\n",
    "\n",
    "PSIICRum = Reaction('PSIICRum')\n",
    "PSIICRum.add_metabolites({ps2d1_um: -0.01, p680_exc_um:-1,\n",
    "                          ps2d1_exc_um: 0.01, p680_um:1})\n",
    "\n",
    "to_add.append(PSIICRum)\n",
    "model.add_reactions(to_add)\n",
    "\n",
    "to_add = []\n",
    "\n",
    "PSICRum = Reaction('PSICRum')\n",
    "PSICRum.add_metabolites({\n",
    "    model.metabolites.C00007__chlo: -1, \n",
    "    model.metabolites.C03025__lum:-1,\n",
    "    p700_exc_um:-1,\n",
    "    model.metabolites.C00704__chlo: 1,\n",
    "    model.metabolites.C03162__lum: 1,\n",
    "    p700_um:1\n",
    "})\n",
    "\n",
    "to_add.append(PSICRum)\n",
    "model.add_reactions(to_add)"
   ],
   "id": "47a2d19955f2263",
   "outputs": [],
   "execution_count": 686
  },
  {
   "metadata": {
    "ExecuteTime": {
     "end_time": "2024-08-16T15:48:51.135557Z",
     "start_time": "2024-08-16T15:48:51.124237Z"
    }
   },
   "cell_type": "code",
   "source": "model.reactions.R08409__chlo",
   "id": "e0f3c85ff03b41d7",
   "outputs": [
    {
     "data": {
      "text/plain": [
       "<Reaction R08409__chlo at 0x78c2c8f72ed0>"
      ],
      "text/html": [
       "\n",
       "        <table>\n",
       "            <tr>\n",
       "                <td><strong>Reaction identifier</strong></td><td>R08409__chlo</td>\n",
       "            </tr><tr>\n",
       "                <td><strong>Name</strong></td><td>2 H+ (chlo) + 2 Oxidized plastocyanin (lum) + Plastoquinol-9 (lum) => 4 H+ (lum) + 2 Reduced...</td>\n",
       "            </tr><tr>\n",
       "                <td><strong>Memory address</strong></td>\n",
       "                <td>0x78c2c8f72ed0</td>\n",
       "            </tr><tr>\n",
       "                <td><strong>Stoichiometry</strong></td>\n",
       "                <td>\n",
       "                    <p style='text-align:right'>2.0 C00080__chlo + 2.0 C03162__lum + C16695__lum --> 4.0 C00080__lum + 2.0 C03025__lum + C10385__lum</p>\n",
       "                    <p style='text-align:right'>2.0 H+ + 2.0 Oxidized plastocyanin + Plastoquinol-9 --> 4.0 H+ + 2.0 Reduced plastocyanin + Plastoquinone-9</p>\n",
       "                </td>\n",
       "            </tr><tr>\n",
       "                <td><strong>GPR</strong></td><td>ACS95106_1 and ACS95049_1 and ACS95036_1 and KAF5835493_1 and KAF5838132_1 and KAF5838131_1 and...</td>\n",
       "            </tr><tr>\n",
       "                <td><strong>Lower bound</strong></td><td>0.0</td>\n",
       "            </tr><tr>\n",
       "                <td><strong>Upper bound</strong></td><td>1000.0</td>\n",
       "            </tr>\n",
       "        </table>\n",
       "        "
      ]
     },
     "execution_count": 687,
     "metadata": {},
     "output_type": "execute_result"
    }
   ],
   "execution_count": 687
  },
  {
   "metadata": {
    "ExecuteTime": {
     "end_time": "2024-08-16T15:48:51.152047Z",
     "start_time": "2024-08-16T15:48:51.136871Z"
    }
   },
   "cell_type": "code",
   "source": [
    "to_add = []\n",
    "\n",
    "PSIIum = Reaction('PSIIum')\n",
    "PSIIum.add_metabolites({\n",
    "                        model.metabolites.C00080__chlo: -3.9996,\n",
    "                        model.metabolites.C00001__chlo: -2,\n",
    "                        model.metabolites.C10385__lum: -1.9998,\n",
    "                        p680_exc_um: -4,\n",
    "                        ps2d1_um: -0.0004 ,\n",
    "                        model.metabolites.C00080__lum: 4,\n",
    "                        model.metabolites.C00007__chlo: 1,\n",
    "                        model.metabolites.C16695__lum: 1.9998,\n",
    "                        p680_um:4,\n",
    "                        ps2d1_exc_um: 0.0004\n",
    "                        })\n",
    "to_add.append(PSIIum)\n",
    "model.add_reactions(to_add)\n",
    "\n",
    "\n",
    "to_add = []\n",
    "\n",
    "PSIum = Reaction('PSIum')\n",
    "PSIum.add_metabolites({\n",
    "                        model.metabolites.C00007__chlo: -0.01,\n",
    "                        model.metabolites.C00139__chlo: -0.99,\n",
    "                        model.metabolites.C03025__lum:-1,\n",
    "                        p700_exc_um: -1,\n",
    "                        model.metabolites.C00704__chlo: 0.01,\n",
    "                        model.metabolites.C00138__chlo: 0.99,\n",
    "                        model.metabolites.C03162__lum: 1,\n",
    "                        p700_um: 1\n",
    "                        })\n",
    "to_add.append(PSIum)\n",
    "model.add_reactions(to_add)"
   ],
   "id": "7021dabf3b1d0fc5",
   "outputs": [],
   "execution_count": 688
  },
  {
   "metadata": {
    "ExecuteTime": {
     "end_time": "2024-08-16T15:48:51.163200Z",
     "start_time": "2024-08-16T15:48:51.153156Z"
    }
   },
   "cell_type": "code",
   "source": [
    "to_add = []\n",
    "\n",
    "NGAM_D1um = Reaction('NGAM_D1um')\n",
    "NGAM_D1um.add_metabolites({\n",
    "                        model.metabolites.C00002__chlo: -360,\n",
    "                        model.metabolites.C00044__chlo: -720,\n",
    "                        model.metabolites.C00001__chlo: -1080 ,\n",
    "                        ps2d1_exc_um: -1,\n",
    "                        ps2d1_um: 1 ,\n",
    "                        model.metabolites.C00009__chlo:  1080,\n",
    "                        model.metabolites.C00080__chlo: 1080,\n",
    "                        model.metabolites.C00035__chlo: 720,\n",
    "                        model.metabolites.C00008__chlo: 360\n",
    "                        })\n",
    "to_add.append(NGAM_D1um)\n",
    "model.add_reactions(to_add)"
   ],
   "id": "8577b12ba710bc56",
   "outputs": [],
   "execution_count": 689
  },
  {
   "metadata": {
    "ExecuteTime": {
     "end_time": "2024-08-16T15:48:51.173724Z",
     "start_time": "2024-08-16T15:48:51.164141Z"
    }
   },
   "cell_type": "code",
   "source": [
    "# for met in model.reactions.PHOA437__chlo.reactants:\n",
    "#     print(met.id)\n",
    "#     model.create_sink(met.id)\n",
    "# for met in model.reactions.PHOA437__chlo.products:\n",
    "#     print(met.id)\n",
    "#     model.create_demand(met.id)\n",
    "#model.create_sink(\"p700_um__chlo\")\n",
    "#model.create_sink(\"p700_exc_um__chlo\")\n",
    "model.create_sink(\"chla_soret_exc__chlo\")\n",
    "#model.create_sink(\"chla_soret_exc__chlo\")\n",
    "#model.create_sink(\"chlb_soret_exc__chlo\")\n",
    "#model.create_demand(\"p680_exc_um__chlo\")"
   ],
   "id": "d13b8504208b00b",
   "outputs": [
    {
     "data": {
      "text/plain": [
       "<Reaction Sk_chla_soret_exc__chlo at 0x78c2c8d4f4d0>"
      ],
      "text/html": [
       "\n",
       "        <table>\n",
       "            <tr>\n",
       "                <td><strong>Reaction identifier</strong></td><td>Sk_chla_soret_exc__chlo</td>\n",
       "            </tr><tr>\n",
       "                <td><strong>Name</strong></td><td></td>\n",
       "            </tr><tr>\n",
       "                <td><strong>Memory address</strong></td>\n",
       "                <td>0x78c2c8d4f4d0</td>\n",
       "            </tr><tr>\n",
       "                <td><strong>Stoichiometry</strong></td>\n",
       "                <td>\n",
       "                    <p style='text-align:right'><=> chla_soret_exc__chlo</p>\n",
       "                    <p style='text-align:right'><=> Excited chlorophyll A, Soret band (short wavelength)</p>\n",
       "                </td>\n",
       "            </tr><tr>\n",
       "                <td><strong>GPR</strong></td><td></td>\n",
       "            </tr><tr>\n",
       "                <td><strong>Lower bound</strong></td><td>-10000</td>\n",
       "            </tr><tr>\n",
       "                <td><strong>Upper bound</strong></td><td>10000</td>\n",
       "            </tr>\n",
       "        </table>\n",
       "        "
      ]
     },
     "execution_count": 690,
     "metadata": {},
     "output_type": "execute_result"
    }
   ],
   "execution_count": 690
  },
  {
   "metadata": {
    "ExecuteTime": {
     "end_time": "2024-08-16T15:49:29.311600Z",
     "start_time": "2024-08-16T15:49:28.884455Z"
    }
   },
   "cell_type": "code",
   "source": "fva(model, ['STCHLPSIum__chlo'], fraction_of_optimum=0.9)",
   "id": "f12e99d8966853ff",
   "outputs": [
    {
     "data": {
      "text/plain": [
       "                  minimum  maximum\n",
       "STCHLPSIum__chlo      0.0      3.5"
      ],
      "text/html": [
       "<div>\n",
       "<style scoped>\n",
       "    .dataframe tbody tr th:only-of-type {\n",
       "        vertical-align: middle;\n",
       "    }\n",
       "\n",
       "    .dataframe tbody tr th {\n",
       "        vertical-align: top;\n",
       "    }\n",
       "\n",
       "    .dataframe thead th {\n",
       "        text-align: right;\n",
       "    }\n",
       "</style>\n",
       "<table border=\"1\" class=\"dataframe\">\n",
       "  <thead>\n",
       "    <tr style=\"text-align: right;\">\n",
       "      <th></th>\n",
       "      <th>minimum</th>\n",
       "      <th>maximum</th>\n",
       "    </tr>\n",
       "  </thead>\n",
       "  <tbody>\n",
       "    <tr>\n",
       "      <th>STCHLPSIum__chlo</th>\n",
       "      <td>0.0</td>\n",
       "      <td>3.5</td>\n",
       "    </tr>\n",
       "  </tbody>\n",
       "</table>\n",
       "</div>"
      ]
     },
     "execution_count": 703,
     "metadata": {},
     "output_type": "execute_result"
    }
   ],
   "execution_count": 703
  },
  {
   "metadata": {
    "ExecuteTime": {
     "end_time": "2024-08-16T15:49:08.056647Z",
     "start_time": "2024-08-16T15:49:08.052764Z"
    }
   },
   "cell_type": "code",
   "source": "model.metabolites.chla_qy1_exc__chlo.reactions",
   "id": "113b7ea0cdb5df66",
   "outputs": [
    {
     "data": {
      "text/plain": [
       "frozenset({<Reaction DM_chla_qy1_exc__chlo at 0x78c2c8d9ed10>,\n",
       "           <Reaction ETBACARO__chlo at 0x78c2c7b27750>,\n",
       "           <Reaction ETBCARO__chlo at 0x78c2c8241c90>,\n",
       "           <Reaction ETBLUT__chlo at 0x78c2c8252210>,\n",
       "           <Reaction ETBZEA__chlo at 0x78c2c8e1cdd0>,\n",
       "           <Reaction ETCBCARO__chlo at 0x78c2c9120090>,\n",
       "           <Reaction ETCHLAS__chlo at 0x78c2c7a6a650>,\n",
       "           <Reaction ETVIOL__chlo at 0x78c2c8bbf150>,\n",
       "           <Reaction PSICSum at 0x78c2c8d3f1d0>,\n",
       "           <Reaction STCHLPSIum__chlo at 0x78c2c91c8b10>})"
      ]
     },
     "execution_count": 699,
     "metadata": {},
     "output_type": "execute_result"
    }
   ],
   "execution_count": 699
  },
  {
   "metadata": {
    "ExecuteTime": {
     "end_time": "2024-08-16T15:48:51.535318Z",
     "start_time": "2024-08-16T15:48:51.517813Z"
    }
   },
   "cell_type": "code",
   "source": "model.reactions.PSIumchla_qy1_exc__chlo",
   "id": "5186a1dded01339f",
   "outputs": [
    {
     "data": {
      "text/plain": [
       "<Reaction PSIum at 0x78c2c8ee9cd0>"
      ],
      "text/html": [
       "\n",
       "        <table>\n",
       "            <tr>\n",
       "                <td><strong>Reaction identifier</strong></td><td>PSIum</td>\n",
       "            </tr><tr>\n",
       "                <td><strong>Name</strong></td><td></td>\n",
       "            </tr><tr>\n",
       "                <td><strong>Memory address</strong></td>\n",
       "                <td>0x78c2c8ee9cd0</td>\n",
       "            </tr><tr>\n",
       "                <td><strong>Stoichiometry</strong></td>\n",
       "                <td>\n",
       "                    <p style='text-align:right'>0.01 C00007__chlo + 0.99 C00139__chlo + C03025__lum + p700_exc_um__chlo --> 0.99 C00138__chlo + 0.01 C00704__chlo + C03162__lum + p700_um__chlo</p>\n",
       "                    <p style='text-align:right'>0.01 Oxygen + 0.99 Oxidized ferredoxin + Reduced plastocyanin + P700 exc --> 0.99 Reduced ferredoxin + 0.01 Superoxide + Oxidized plastocyanin + P700</p>\n",
       "                </td>\n",
       "            </tr><tr>\n",
       "                <td><strong>GPR</strong></td><td></td>\n",
       "            </tr><tr>\n",
       "                <td><strong>Lower bound</strong></td><td>0.0</td>\n",
       "            </tr><tr>\n",
       "                <td><strong>Upper bound</strong></td><td>1000.0</td>\n",
       "            </tr>\n",
       "        </table>\n",
       "        "
      ]
     },
     "execution_count": 693,
     "metadata": {},
     "output_type": "execute_result"
    }
   ],
   "execution_count": 693
  },
  {
   "metadata": {
    "ExecuteTime": {
     "end_time": "2024-08-16T15:48:55.981315Z",
     "start_time": "2024-08-16T15:48:55.595247Z"
    }
   },
   "cell_type": "code",
   "source": [
    "model.create_demand(\"chla_qy1_exc__chlo\")\n",
    "model.slim_optimize()"
   ],
   "id": "a288014236513470",
   "outputs": [
    {
     "data": {
      "text/plain": [
       "0.1587920524612248"
      ]
     },
     "execution_count": 698,
     "metadata": {},
     "output_type": "execute_result"
    }
   ],
   "execution_count": 698
  },
  {
   "metadata": {
    "ExecuteTime": {
     "end_time": "2024-08-16T15:48:51.562494Z",
     "start_time": "2024-08-16T15:48:51.559168Z"
    }
   },
   "cell_type": "code",
   "source": "model.reactions.ETCHLAS__chlo.products",
   "id": "9beee27b73343454",
   "outputs": [
    {
     "data": {
      "text/plain": [
       "[<Metabolite pho_loss__chlo at 0x78c2ca030510>,\n",
       " <Metabolite chla_qy1_exc__chlo at 0x78c2cb8a3a10>,\n",
       " <Metabolite C05306__chlo at 0x78c2cb711cd0>,\n",
       " <Metabolite chla_qy2_exc__chlo at 0x78c2ca06b1d0>]"
      ]
     },
     "execution_count": 695,
     "metadata": {},
     "output_type": "execute_result"
    }
   ],
   "execution_count": 695
  },
  {
   "metadata": {
    "ExecuteTime": {
     "end_time": "2024-08-16T15:52:14.500008Z",
     "start_time": "2024-08-16T15:52:14.232583Z"
    }
   },
   "cell_type": "code",
   "source": "model.test_reaction('PSICSum')",
   "id": "a6fd692ee4e99907",
   "outputs": [
    {
     "data": {
      "text/plain": [
       "                                                       Flux ReactantOrProduct\n",
       "P700                                                    0.0          Reactant\n",
       "Photosystem I excited chlorophyll A, Qy band (l...    346.5          Reactant\n",
       "P700 exc                                                0.0           Product\n",
       "Chlorophyll a                                       10000.0           Product"
      ],
      "text/html": [
       "<div>\n",
       "<style scoped>\n",
       "    .dataframe tbody tr th:only-of-type {\n",
       "        vertical-align: middle;\n",
       "    }\n",
       "\n",
       "    .dataframe tbody tr th {\n",
       "        vertical-align: top;\n",
       "    }\n",
       "\n",
       "    .dataframe thead th {\n",
       "        text-align: right;\n",
       "    }\n",
       "</style>\n",
       "<table border=\"1\" class=\"dataframe\">\n",
       "  <thead>\n",
       "    <tr style=\"text-align: right;\">\n",
       "      <th></th>\n",
       "      <th>Flux</th>\n",
       "      <th>ReactantOrProduct</th>\n",
       "    </tr>\n",
       "  </thead>\n",
       "  <tbody>\n",
       "    <tr>\n",
       "      <th>P700</th>\n",
       "      <td>0.0</td>\n",
       "      <td>Reactant</td>\n",
       "    </tr>\n",
       "    <tr>\n",
       "      <th>Photosystem I excited chlorophyll A, Qy band (long wavelength)</th>\n",
       "      <td>346.5</td>\n",
       "      <td>Reactant</td>\n",
       "    </tr>\n",
       "    <tr>\n",
       "      <th>P700 exc</th>\n",
       "      <td>0.0</td>\n",
       "      <td>Product</td>\n",
       "    </tr>\n",
       "    <tr>\n",
       "      <th>Chlorophyll a</th>\n",
       "      <td>10000.0</td>\n",
       "      <td>Product</td>\n",
       "    </tr>\n",
       "  </tbody>\n",
       "</table>\n",
       "</div>"
      ]
     },
     "execution_count": 705,
     "metadata": {},
     "output_type": "execute_result"
    }
   ],
   "execution_count": 705
  },
  {
   "metadata": {
    "ExecuteTime": {
     "end_time": "2024-08-16T15:48:52.436192Z",
     "start_time": "2024-08-16T15:48:51.851873Z"
    }
   },
   "cell_type": "code",
   "source": "model.summary()",
   "id": "83f077c5f43efaa4",
   "outputs": [
    {
     "name": "stdout",
     "output_type": "stream",
     "text": [
      "Running pFBA\n"
     ]
    },
    {
     "data": {
      "text/plain": [
       "<cobra.summary.model_summary.ModelSummary at 0x78c2c8eeb690>"
      ],
      "text/html": [
       "<h3>Objective</h3><p>1.0 e_Biomass__cytop = 0.0</p><h4>Uptake</h4><table border=\"1\" class=\"dataframe\">\n",
       "  <thead>\n",
       "    <tr style=\"text-align: right;\">\n",
       "      <th>Metabolite</th>\n",
       "      <th>Reaction</th>\n",
       "      <th>Flux</th>\n",
       "      <th>C-Number</th>\n",
       "      <th>C-Flux</th>\n",
       "    </tr>\n",
       "  </thead>\n",
       "  <tbody>\n",
       "  </tbody>\n",
       "</table><h4>Secretion</h4><table border=\"1\" class=\"dataframe\">\n",
       "  <thead>\n",
       "    <tr style=\"text-align: right;\">\n",
       "      <th>Metabolite</th>\n",
       "      <th>Reaction</th>\n",
       "      <th>Flux</th>\n",
       "      <th>C-Number</th>\n",
       "      <th>C-Flux</th>\n",
       "    </tr>\n",
       "  </thead>\n",
       "  <tbody>\n",
       "  </tbody>\n",
       "</table>"
      ]
     },
     "execution_count": 697,
     "metadata": {},
     "output_type": "execute_result"
    }
   ],
   "execution_count": 697
  }
 ],
 "metadata": {
  "kernelspec": {
   "display_name": "Python 3 (ipykernel)",
   "name": "python3",
   "language": "python"
  },
  "language_info": {
   "name": ""
  }
 },
 "nbformat": 4,
 "nbformat_minor": 5
}
