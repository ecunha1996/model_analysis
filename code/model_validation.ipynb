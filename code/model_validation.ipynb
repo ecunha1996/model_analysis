{
 "cells": [
  {
   "cell_type": "code",
   "id": "initial_id",
   "metadata": {
    "ExecuteTime": {
     "end_time": "2024-08-28T10:46:03.106051Z",
     "start_time": "2024-08-28T10:45:59.489875Z"
    }
   },
   "source": [
    "from gsmmutils import ModelValidator, MyModel\n",
    "import gsmmutils\n",
    "gsmmutils.model.model_validator.DATA_PATH =  \"../results\"\n",
    "import seaborn as sns\n",
    "import matplotlib.pyplot as plt\n",
    "sns.set(rc={'figure.figsize':(35,8.27)})"
   ],
   "outputs": [],
   "execution_count": 3
  },
  {
   "cell_type": "code",
   "id": "b8259d7fc0426f78",
   "metadata": {
    "collapsed": false,
    "jupyter": {
     "outputs_hidden": false
    },
    "ExecuteTime": {
     "end_time": "2024-08-28T10:46:12.034744Z",
     "start_time": "2024-08-28T10:46:03.606488Z"
    }
   },
   "source": [
    "model = MyModel(r\"../data/model_with_media.xml\", \"e_Biomass__cytop\")\n",
    "mv = ModelValidator(model, \"ATPm__cytop\")"
   ],
   "outputs": [
    {
     "name": "stdout",
     "output_type": "stream",
     "text": [
      "Loading\n",
      "\n",
      "Set parameter Username\n",
      "Academic license - for non-commercial use only - expires 2025-07-15\n",
      "Reactions: 4598\n",
      "Metabolites: 3750\n",
      "Genes: 1694\n",
      "Model loaded\n"
     ]
    }
   ],
   "execution_count": 4
  },
  {
   "cell_type": "code",
   "execution_count": 3,
   "id": "d2a771d5de9d3960",
   "metadata": {
    "ExecuteTime": {
     "end_time": "2024-04-02T13:16:33.745350Z",
     "start_time": "2024-04-02T13:15:10.922146Z"
    },
    "collapsed": false,
    "jupyter": {
     "outputs_hidden": false
    }
   },
   "outputs": [
    {
     "name": "stdout",
     "output_type": "stream",
     "text": [
      "Reactions ATPm__cytop and R00086__cytop are equal!\n",
      "Mass balance: OK\n",
      "Energy cycles: OK\n",
      "Biomass production OK: 0.1993495038939121\n",
      "Objective\n",
      "=========\n",
      "1.0 e_Biomass__cytop = 0.1993495038939121\n",
      "\n",
      "Uptake\n",
      "------\n",
      "  Metabolite       Reaction      Flux  C-Number C-Flux\n",
      "C00001__extr EX_C00001__dra     6.744         0  0.00%\n",
      "C00009__extr EX_C00009__dra   0.03145         0  0.00%\n",
      "C00011__extr EX_C00011__dra      8.21         1 99.75%\n",
      "C00059__extr EX_C00059__dra   0.02091         0  0.00%\n",
      "C00080__extr EX_C00080__dra   0.05305         0  0.00%\n",
      "C00120__extr EX_C00120__dra 0.0007584        10  0.09%\n",
      "C00205__extr EX_C00205__dra     760.2         0  0.00%\n",
      "C00244__extr EX_C00244__dra    0.5172         0  0.00%\n",
      "C00305__extr EX_C00305__dra 0.0002148         0  0.00%\n",
      "C00378__extr EX_C00378__dra 0.0004359        12  0.06%\n",
      "C02823__extr EX_C02823__dra 0.0001168        63  0.09%\n",
      "C14818__extr EX_C14818__dra  0.002399         0  0.00%\n",
      "\n",
      "Secretion\n",
      "---------\n",
      "      Metabolite            Reaction       Flux  C-Number  C-Flux\n",
      "photon298__cytop DM_photon298__cytop    -0.1689         0   0.00%\n",
      "  photon438__lum   DM_photon438__lum     -25.19         0   0.00%\n",
      " photon450__chlo  DM_photon450__chlo     -20.79         0   0.00%\n",
      " photon490__chlo  DM_photon490__chlo     -115.4         0   0.00%\n",
      " photon646__chlo  DM_photon646__chlo     -195.2         0   0.00%\n",
      "    C00007__extr      EX_C00007__dra      -10.2         0   0.00%\n",
      "    C00177__extr      EX_C00177__dra -0.0001168         1 100.00%\n",
      "\n",
      "Blocked reactions: 916 -> (20.0%)\n",
      "Running fastcc...\n"
     ]
    },
    {
     "name": "stderr",
     "output_type": "stream",
     "text": [
      "C:\\Users\\Bisbii\\mambaforge-pypy3\\envs\\model_analysis\\lib\\site-packages\\cobra\\core\\group.py:147: UserWarning: need to pass in a list\n",
      "  warn(\"need to pass in a list\")\n"
     ]
    },
    {
     "name": "stdout",
     "output_type": "stream",
     "text": [
      "Consistent reactions:  3560\n",
      "Inconsistent reactions:  1056\n",
      "Reactions with Unbounded flux: 274 -> (6.0%)\n",
      "                       minimum      maximum\n",
      "R00658__cytop        -3.475951     5.029590\n",
      "R00243__mito        -17.749759    33.065320\n",
      "BMGR5732__er         -8.469964     4.235532\n",
      "R01731__chlo      -9999.994150     0.013581\n",
      "BMGR4912__chlomem    -0.254180     2.420627\n",
      "...                        ...          ...\n",
      "BMGR4897__chlomem    -0.003474     2.420554\n",
      "R10092__chlo        -68.253374  9999.538963\n",
      "BMGR4874__chlomem    -0.254060     2.426195\n",
      "BMGR4814__ermem      -8.469130     1.888878\n",
      "T_MAL_Ltx__permem    -4.189089     5.538181\n",
      "\n",
      "[274 rows x 2 columns]\n",
      "SBC: 27 -> (1.0%)\n"
     ]
    }
   ],
   "source": [
    "mv.validate()"
   ]
  },
  {
   "cell_type": "markdown",
   "id": "fd2224bf42b6ab96",
   "metadata": {
    "collapsed": false,
    "jupyter": {
     "outputs_hidden": false
    }
   },
   "source": [
    "Apply constraints for photosynthesis"
   ]
  },
  {
   "cell_type": "markdown",
   "id": "a40d78f63002fe45",
   "metadata": {
    "collapsed": false,
    "jupyter": {
     "outputs_hidden": false
    }
   },
   "source": [
    "Photoautotrophic growth"
   ]
  },
  {
   "cell_type": "code",
   "id": "82b7d9365ff376b",
   "metadata": {
    "collapsed": false,
    "jupyter": {
     "outputs_hidden": false
    },
    "ExecuteTime": {
     "end_time": "2024-08-28T10:45:54.574514Z",
     "start_time": "2024-08-28T10:45:54.571507Z"
    }
   },
   "source": [
    "model.summary()"
   ],
   "outputs": [],
   "execution_count": null
  },
  {
   "cell_type": "markdown",
   "id": "668b1d57cad7be82",
   "metadata": {
    "collapsed": false,
    "jupyter": {
     "outputs_hidden": false
    }
   },
   "source": [
    "Mixotrophic growth with acetate"
   ]
  },
  {
   "cell_type": "code",
   "id": "9ace3699-2926-435d-a676-24505659ca9d",
   "metadata": {
    "ExecuteTime": {
     "end_time": "2024-08-28T10:46:12.969460Z",
     "start_time": "2024-08-28T10:46:12.036746Z"
    }
   },
   "source": [
    "with model as mixo_model:\n",
    "    mixo_model.exchanges.EX_C00033__dra.bounds = (-8.21/2, 1000)\n",
    "    print(mixo_model.summary())"
   ],
   "outputs": [
    {
     "name": "stdout",
     "output_type": "stream",
     "text": [
      "Running pFBA\n",
      "Objective\n",
      "=========\n",
      "1.0 e_Biomass__cytop = 0.39869900778782286\n",
      "\n",
      "Uptake\n",
      "------\n",
      "  Metabolite       Reaction      Flux  C-Number C-Flux\n",
      "C00001__extr EX_C00001__dra     7.331         0  0.00%\n",
      "C00009__extr EX_C00009__dra   0.06291         0  0.00%\n",
      "C00011__extr EX_C00011__dra      8.21         1 49.88%\n",
      "C00033__extr EX_C00033__dra     4.105         2 49.88%\n",
      "C00059__extr EX_C00059__dra   0.04181         0  0.00%\n",
      "C00080__extr EX_C00080__dra    0.1061         0  0.00%\n",
      "C00120__extr EX_C00120__dra  0.001517        10  0.09%\n",
      "C00205__extr EX_C00205__dra     773.8         0  0.00%\n",
      "C00244__extr EX_C00244__dra     1.034         0  0.00%\n",
      "C00305__extr EX_C00305__dra 0.0004297         0  0.00%\n",
      "C00378__extr EX_C00378__dra 0.0008718        12  0.06%\n",
      "C02823__extr EX_C02823__dra 0.0002336        63  0.09%\n",
      "C14818__extr EX_C14818__dra  0.004799         0  0.00%\n",
      "\n",
      "Secretion\n",
      "---------\n",
      "      Metabolite            Reaction       Flux  C-Number  C-Flux\n",
      "photon298__cytop DM_photon298__cytop    -0.1719         0   0.00%\n",
      " photon450__chlo  DM_photon450__chlo     -21.16         0   0.00%\n",
      " photon490__chlo  DM_photon490__chlo     -117.5         0   0.00%\n",
      " photon646__chlo  DM_photon646__chlo     -198.7         0   0.00%\n",
      "  photon673__lum   DM_photon673__lum     -22.27         0   0.00%\n",
      "    C00007__extr      EX_C00007__dra     -13.23         0   0.00%\n",
      "    C00177__extr      EX_C00177__dra -0.0002336         1 100.00%\n",
      "\n"
     ]
    }
   ],
   "execution_count": 5
  },
  {
   "cell_type": "markdown",
   "id": "8ec34f1bdd46f0bf",
   "metadata": {
    "collapsed": false,
    "jupyter": {
     "outputs_hidden": false
    }
   },
   "source": [
    "Mixotrophic growth with glucose"
   ]
  },
  {
   "cell_type": "code",
   "id": "33ffc1f4-83a2-4513-a010-ae1b5c66bc55",
   "metadata": {
    "ExecuteTime": {
     "end_time": "2024-08-28T10:46:18.597160Z",
     "start_time": "2024-08-28T10:46:17.637468Z"
    }
   },
   "source": [
    "with model as mixo_model:\n",
    "    mixo_model.exchanges.EX_C00033__dra.bounds = (0, 1000)\n",
    "    mixo_model.exchanges.EX_C00221__dra.bounds = (-8.21/6, 1000)\n",
    "    print(mixo_model.summary())"
   ],
   "outputs": [
    {
     "name": "stdout",
     "output_type": "stream",
     "text": [
      "Running pFBA\n",
      "Objective\n",
      "=========\n",
      "1.0 e_Biomass__cytop = 0.3986990077878246\n",
      "\n",
      "Uptake\n",
      "------\n",
      "  Metabolite       Reaction      Flux  C-Number C-Flux\n",
      "C00001__extr EX_C00001__dra     4.594         0  0.00%\n",
      "C00009__extr EX_C00009__dra   0.06291         0  0.00%\n",
      "C00011__extr EX_C00011__dra      8.21         1 49.88%\n",
      "C00059__extr EX_C00059__dra   0.04181         0  0.00%\n",
      "C00080__extr EX_C00080__dra     1.474         0  0.00%\n",
      "C00120__extr EX_C00120__dra  0.001517        10  0.09%\n",
      "C00205__extr EX_C00205__dra     680.2         0  0.00%\n",
      "C00221__extr EX_C00221__dra     1.368         6 49.88%\n",
      "C00244__extr EX_C00244__dra     1.034         0  0.00%\n",
      "C00305__extr EX_C00305__dra 0.0004297         0  0.00%\n",
      "C00378__extr EX_C00378__dra 0.0008718        12  0.06%\n",
      "C02823__extr EX_C02823__dra 0.0002336        63  0.09%\n",
      "C14818__extr EX_C14818__dra  0.004799         0  0.00%\n",
      "\n",
      "Secretion\n",
      "---------\n",
      "      Metabolite            Reaction       Flux  C-Number  C-Flux\n",
      "photon298__cytop DM_photon298__cytop    -0.1512         0   0.00%\n",
      "  photon438__lum   DM_photon438__lum     -22.89         0   0.00%\n",
      " photon450__chlo  DM_photon450__chlo     -18.61         0   0.00%\n",
      " photon490__chlo  DM_photon490__chlo     -103.3         0   0.00%\n",
      " photon646__chlo  DM_photon646__chlo     -174.7         0   0.00%\n",
      "    C00007__extr      EX_C00007__dra     -11.86         0   0.00%\n",
      "    C00177__extr      EX_C00177__dra -0.0002336         1 100.00%\n",
      "\n"
     ]
    }
   ],
   "execution_count": 6
  },
  {
   "cell_type": "markdown",
   "id": "9554fd9ce5ad1bff",
   "metadata": {
    "collapsed": false,
    "jupyter": {
     "outputs_hidden": false
    }
   },
   "source": [
    "Heterotrophic growth with acetate"
   ]
  },
  {
   "cell_type": "code",
   "id": "26ddfe7b",
   "metadata": {
    "ExecuteTime": {
     "end_time": "2024-08-28T10:46:30.978579Z",
     "start_time": "2024-08-28T10:46:29.847324Z"
    }
   },
   "source": [
    "with model as hetero_model:\n",
    "    hetero_model.exchanges.EX_C00033__dra.bounds = (-8.21/2, 1000)\n",
    "    hetero_model.exchanges.EX_C00205__dra.bounds = (0, 1000)\n",
    "    print(model.summary())"
   ],
   "outputs": [
    {
     "name": "stdout",
     "output_type": "stream",
     "text": [
      "Running pFBA\n",
      "Objective\n",
      "=========\n",
      "1.0 e_Biomass__cytop = 0.09099769567487286\n",
      "\n",
      "Uptake\n",
      "------\n",
      "  Metabolite       Reaction      Flux  C-Number C-Flux\n",
      "C00007__extr EX_C00007__dra     2.526         0  0.00%\n",
      "C00009__extr EX_C00009__dra   0.01436         0  0.00%\n",
      "C00033__extr EX_C00033__dra     4.105         2 99.89%\n",
      "C00059__extr EX_C00059__dra  0.009543         0  0.00%\n",
      "C00080__extr EX_C00080__dra    0.0239         0  0.00%\n",
      "C00120__extr EX_C00120__dra 0.0003462        10  0.04%\n",
      "C00244__extr EX_C00244__dra    0.2361         0  0.00%\n",
      "C00305__extr EX_C00305__dra 9.807E-05         0  0.00%\n",
      "C00378__extr EX_C00378__dra  0.000199        12  0.03%\n",
      "C02823__extr EX_C02823__dra 5.332E-05        63  0.04%\n",
      "C14818__extr EX_C14818__dra  0.001095         0  0.00%\n",
      "\n",
      "Secretion\n",
      "---------\n",
      "  Metabolite       Reaction       Flux  C-Number  C-Flux\n",
      "C00001__extr EX_C00001__dra     -3.079         0   0.00%\n",
      "C00011__extr EX_C00011__dra     -4.462         1 100.00%\n",
      "C00177__extr EX_C00177__dra -5.332E-05         1   0.00%\n",
      "\n"
     ]
    }
   ],
   "execution_count": 7
  },
  {
   "cell_type": "markdown",
   "id": "7f0079d2e76ed30b",
   "metadata": {
    "collapsed": false,
    "jupyter": {
     "outputs_hidden": false
    }
   },
   "source": [
    "Heterotrophic growth with glucose"
   ]
  },
  {
   "cell_type": "code",
   "id": "8a34a5f4",
   "metadata": {
    "ExecuteTime": {
     "end_time": "2024-08-28T10:47:19.496159Z",
     "start_time": "2024-08-28T10:47:18.479523Z"
    }
   },
   "source": [
    "with model as hetero_model:\n",
    "    hetero_model.exchanges.EX_C00221__dra.bounds = (-8.21/6, 1000)\n",
    "    hetero_model.exchanges.EX_C00033__dra.bounds = (0, 1000)\n",
    "    hetero_model.exchanges.EX_C00205__dra.bounds = (0, 1000)\n",
    "    hetero_model.exchanges.EX_C01330__dra.bounds = (0, 1000)\n",
    "    print(hetero_model.summary())"
   ],
   "outputs": [
    {
     "name": "stdout",
     "output_type": "stream",
     "text": [
      "Running pFBA\n",
      "Objective\n",
      "=========\n",
      "1.0 e_Biomass__cytop = 0.14456293710903592\n",
      "\n",
      "Uptake\n",
      "------\n",
      "  Metabolite       Reaction      Flux  C-Number C-Flux\n",
      "C00007__extr EX_C00007__dra    0.9661         0  0.00%\n",
      "C00009__extr EX_C00009__dra   0.02281         0  0.00%\n",
      "C00059__extr EX_C00059__dra   0.01516         0  0.00%\n",
      "C00080__extr EX_C00080__dra    0.6631         0  0.00%\n",
      "C00120__extr EX_C00120__dra   0.00055        10  0.07%\n",
      "C00221__extr EX_C00221__dra     1.368         6 99.82%\n",
      "C00244__extr EX_C00244__dra    0.3751         0  0.00%\n",
      "C00305__extr EX_C00305__dra 0.0001558         0  0.00%\n",
      "C00378__extr EX_C00378__dra 0.0003161        12  0.05%\n",
      "C02823__extr EX_C02823__dra  8.47E-05        63  0.06%\n",
      "C14818__extr EX_C14818__dra   0.00174         0  0.00%\n",
      "\n",
      "Secretion\n",
      "---------\n",
      "  Metabolite       Reaction      Flux  C-Number  C-Flux\n",
      "C00001__extr EX_C00001__dra    -3.632         0   0.00%\n",
      "C00011__extr EX_C00011__dra    -2.256         1 100.00%\n",
      "C00177__extr EX_C00177__dra -8.47E-05         1   0.00%\n",
      "\n"
     ]
    }
   ],
   "execution_count": 9
  },
  {
   "cell_type": "markdown",
   "id": "806b705e8f1f222d",
   "metadata": {
    "collapsed": false,
    "jupyter": {
     "outputs_hidden": false
    }
   },
   "source": [
    "Heterotrophic growth with glycerol"
   ]
  },
  {
   "cell_type": "code",
   "execution_count": 10,
   "id": "68802f9c",
   "metadata": {
    "ExecuteTime": {
     "start_time": "2024-04-02T13:16:33.766405Z"
    }
   },
   "outputs": [
    {
     "name": "stdout",
     "output_type": "stream",
     "text": [
      "Running pFBA\n",
      "Objective\n",
      "=========\n",
      "1.0 e_Biomass__cytop = 0.07150032598486508\n",
      "\n",
      "Uptake\n",
      "------\n",
      "  Metabolite       Reaction      Flux  C-Number C-Flux\n",
      "C00007__extr EX_C00007__dra     5.996         0  0.00%\n",
      "C00009__extr EX_C00009__dra   0.01128         0  0.00%\n",
      "C00059__extr EX_C00059__dra  0.007498         0  0.00%\n",
      "C00080__extr EX_C00080__dra    0.3279         0  0.00%\n",
      "C00116__extr EX_C00116__dra     2.737         3 99.91%\n",
      "C00120__extr EX_C00120__dra  0.000272        10  0.03%\n",
      "C00244__extr EX_C00244__dra    0.1855         0  0.00%\n",
      "C00305__extr EX_C00305__dra 7.706E-05         0  0.00%\n",
      "C00378__extr EX_C00378__dra 0.0001564        12  0.02%\n",
      "C02823__extr EX_C02823__dra 4.189E-05        63  0.03%\n",
      "C14818__extr EX_C14818__dra 0.0008605         0  0.00%\n",
      "\n",
      "Secretion\n",
      "---------\n",
      "  Metabolite       Reaction       Flux  C-Number  C-Flux\n",
      "C00001__extr EX_C00001__dra     -8.682         0   0.00%\n",
      "C00011__extr EX_C00011__dra     -5.265         1 100.00%\n",
      "C00177__extr EX_C00177__dra -4.189E-05         1   0.00%\n",
      "\n"
     ]
    }
   ],
   "source": [
    "with model as hetero_model:\n",
    "    hetero_model.exchanges.EX_C00116__dra.bounds = (-8.21/3, 1000)\n",
    "    hetero_model.exchanges.EX_C00205__dra.bounds = (0, 1000)\n",
    "    print(hetero_model.summary())"
   ]
  },
  {
   "cell_type": "code",
   "execution_count": 11,
   "id": "ad70d337-94b2-4e49-a206-22a5775f1ae7",
   "metadata": {},
   "outputs": [],
   "source": [
    "light_sources = [reaction.id for reaction in model.reactions if  \"PRISM\" in reaction.id]\n",
    "results = {}\n",
    "for light_reaction in light_sources:\n",
    "    with model as temp_model:\n",
    "        temp_model.reactions.e_Biomass__cytop.bounds = (0.15, 0.15)\n",
    "        temp_model.objective = \"EX_C00205__dra\"\n",
    "        temp_model.reactions.get_by_id(light_reaction).bounds = (0, 10000)\n",
    "        for other_reaction in light_sources:\n",
    "            if other_reaction != light_reaction:\n",
    "                temp_model.reactions.get_by_id(other_reaction).bounds = (0, 0)\n",
    "        sol = temp_model.slim_optimize()\n",
    "        results[light_reaction] = -sol"
   ]
  },
  {
   "cell_type": "code",
   "execution_count": 12,
   "id": "941a4b9b-3953-4ba2-87b8-103556178a03",
   "metadata": {},
   "outputs": [
    {
     "data": {
      "text/plain": [
       "Text(0, 0.5, 'Light uptake (mmol gDW^-1 d^-1)')"
      ]
     },
     "execution_count": 12,
     "metadata": {},
     "output_type": "execute_result"
    },
    {
     "data": {
      "image/png": "[encoded data removed]",
      "text/plain": [
       "<Figure size 3500x827 with 1 Axes>"
      ]
     },
     "metadata": {},
     "output_type": "display_data"
    }
   ],
   "source": [
    "sns.barplot(x=list(key.split(\"__\")[0] for key in results.keys()), y=list(results.values()), hue=list(key.split(\"__\")[0] for key in results.keys()), palette=\"viridis\")\n",
    "plt.ylabel('Light uptake (mmol gDW^-1 d^-1)')"
   ]
  }
 ],
 "metadata": {
  "kernelspec": {
   "display_name": "Python 3 (ipykernel)",
   "language": "python",
   "name": "python3"
  },
  "language_info": {
   "codemirror_mode": {
    "name": "ipython",
    "version": 3
   },
   "file_extension": ".py",
   "mimetype": "text/x-python",
   "name": "python",
   "nbconvert_exporter": "python",
   "pygments_lexer": "ipython3",
   "version": "3.10.13"
  }
 },
 "nbformat": 4,
 "nbformat_minor": 5
}
