{
 "cells": [
  {
   "cell_type": "code",
   "id": "initial_id",
   "metadata": {
    "collapsed": true,
    "ExecuteTime": {
     "end_time": "2024-10-02T15:01:17.720221Z",
     "start_time": "2024-10-02T15:01:17.714223Z"
    }
   },
   "source": [
    "from gsmmutils import ModelValidator, MyModel\n",
    "import gsmmutils\n",
    "from gsmmutils.utils.utils import  get_biomass_mass\n",
    "gsmmutils.model.model_validator.DATA_PATH =  \"../results\"\n",
    "import seaborn as sns\n",
    "from os.path import join\n",
    "sns.set(rc={'figure.figsize':(35,8.27)})\n",
    "DATA_PATH = r\"../data\"       "
   ],
   "outputs": [],
   "execution_count": 12
  },
  {
   "metadata": {},
   "cell_type": "markdown",
   "source": "# Topological validation of the models",
   "id": "1669e69bffa6b164"
  },
  {
   "metadata": {},
   "cell_type": "markdown",
   "source": "1. Load the models",
   "id": "a9329bc94431812e"
  },
  {
   "metadata": {
    "ExecuteTime": {
     "end_time": "2024-10-02T15:02:02.688520Z",
     "start_time": "2024-10-02T15:01:17.745749Z"
    }
   },
   "cell_type": "code",
   "source": [
    "ng = MyModel(join(DATA_PATH, 'models/model_ng.xml'), 'e_Biomass__cytop')\n",
    "print(str(ng.slim_optimize()) + \"\\n##################\\n\")\n",
    "ds = MyModel(join(DATA_PATH, 'models/model_ds.xml'), 'e_Biomass__cytop')\n",
    "print(str(ds.slim_optimize())+ \"\\n##################\\n\")\n",
    "pl = MyModel(join(DATA_PATH, 'models/model_pl.xml'), 'e_Biomass__cytop')\n",
    "print(str(pl.slim_optimize())+ \"\\n##################\\n\")"
   ],
   "id": "9ac00989ac6bfdd2",
   "outputs": [
    {
     "name": "stdout",
     "output_type": "stream",
     "text": [
      "Loading\n",
      "\n",
      "Reactions: 4485\n",
      "Metabolites: 3793\n",
      "Genes: 1333\n",
      "Model loaded\n",
      "0.7243778302614864\n",
      "##################\n",
      "\n",
      "Loading\n",
      "\n",
      "Reactions: 4511\n",
      "Metabolites: 3679\n",
      "Genes: 1699\n",
      "Model loaded\n",
      "0.2006169001514104\n",
      "##################\n",
      "\n",
      "Loading\n",
      "\n",
      "Reactions: 4740\n",
      "Metabolites: 4182\n",
      "Genes: 1353\n",
      "Model loaded\n",
      "0.7658949231656044\n",
      "##################\n",
      "\n"
     ]
    }
   ],
   "execution_count": 13
  },
  {
   "metadata": {},
   "cell_type": "markdown",
   "source": "2. Validate the models",
   "id": "c2d97c2c94074345"
  },
  {
   "metadata": {
    "ExecuteTime": {
     "end_time": "2024-10-02T15:09:30.482770Z",
     "start_time": "2024-10-02T15:02:02.690027Z"
    }
   },
   "cell_type": "code",
   "source": [
    "mv = ModelValidator(ng, \"ATPm__cytop\")\n",
    "# mv.validate()\n",
    "mv.check_reactions_equal_metabolites()\n",
    "mv.check_balance()\n",
    "mv.old_model = mv.model.copy()\n",
    "mv.check_energy_producing_cycles()"
   ],
   "id": "1201e1be07bef2e7",
   "outputs": [
    {
     "name": "stdout",
     "output_type": "stream",
     "text": [
      "Reactions ATPm__cytop and R00086__cytop are equal!\n",
      "Mass balance: NOT OK\n",
      "SK_C03021__er {'C': -5.0, 'H': -7.0, 'N': -3.0, 'O': -3.0, 'An': -2.0}\n",
      "Read LP format model from file C:\\Users\\Bisbii\\AppData\\Local\\Temp\\tmpgbm81eps.lp\n",
      "Reading time = 0.04 seconds\n",
      ": 3793 rows, 8970 columns, 38970 nonzeros\n",
      "Energy cycles: OK\n"
     ]
    },
    {
     "data": {
      "text/plain": [
       "{}"
      ]
     },
     "execution_count": 14,
     "metadata": {},
     "output_type": "execute_result"
    }
   ],
   "execution_count": 14
  },
  {
   "metadata": {
    "ExecuteTime": {
     "end_time": "2024-10-02T15:17:19.356744Z",
     "start_time": "2024-10-02T15:09:30.484336Z"
    }
   },
   "cell_type": "code",
   "source": [
    "mv = ModelValidator(ds, \"ATPm__cytop\")\n",
    "# mv.validate()\n",
    "mv.check_reactions_equal_metabolites()\n",
    "mv.check_balance()\n",
    "mv.old_model = mv.model.copy()\n",
    "mv.check_energy_producing_cycles()"
   ],
   "id": "8c005e58e3c3037c",
   "outputs": [
    {
     "name": "stdout",
     "output_type": "stream",
     "text": [
      "Reactions BMGR2207__er and BMGR2208__er are equal!\n",
      "Reactions ATPm__cytop and R00086__cytop are equal!\n",
      "Reactions BMGR1507__er and BMGR1493__er are equal!\n",
      "Mass balance: NOT OK\n",
      "SK_C03021__chlo {'C': -5.0, 'H': -7.0, 'N': -3.0, 'O': -3.0, 'An': -2.0}\n",
      "Read LP format model from file C:\\Users\\Bisbii\\AppData\\Local\\Temp\\tmp29632iq8.lp\n",
      "Reading time = 0.07 seconds\n",
      ": 3679 rows, 9022 columns, 39162 nonzeros\n",
      "Energy cycles: OK\n"
     ]
    },
    {
     "data": {
      "text/plain": [
       "{}"
      ]
     },
     "execution_count": 15,
     "metadata": {},
     "output_type": "execute_result"
    }
   ],
   "execution_count": 15
  },
  {
   "metadata": {
    "ExecuteTime": {
     "end_time": "2024-10-02T15:25:09.289431Z",
     "start_time": "2024-10-02T15:17:19.367511Z"
    }
   },
   "cell_type": "code",
   "source": [
    "mv = ModelValidator(pl, \"ATPm__cytop\")\n",
    "# mv.validate()\n",
    "mv.check_reactions_equal_metabolites()\n",
    "mv.check_balance()\n",
    "mv.old_model = mv.model.copy()\n",
    "mv.check_energy_producing_cycles()"
   ],
   "id": "1ef9cc77f79bc6d9",
   "outputs": [
    {
     "name": "stdout",
     "output_type": "stream",
     "text": [
      "Reactions ATPm__cytop and R00086__cytop are equal!\n",
      "Mass balance: NOT OK\n",
      "SK_C03021__er {'C': -5.0, 'H': -7.0, 'N': -3.0, 'O': -3.0, 'An': -2.0}\n",
      "Read LP format model from file C:\\Users\\Bisbii\\AppData\\Local\\Temp\\tmp5b_w01d8.lp\n",
      "Reading time = 0.07 seconds\n",
      ": 4182 rows, 9480 columns, 40660 nonzeros\n",
      "Energy cycles: OK\n"
     ]
    },
    {
     "data": {
      "text/plain": [
       "{}"
      ]
     },
     "execution_count": 16,
     "metadata": {},
     "output_type": "execute_result"
    }
   ],
   "execution_count": 16
  },
  {
   "metadata": {},
   "cell_type": "markdown",
   "source": "3. Check the biomass mass elemental composition",
   "id": "2a8d6e19bca906e9"
  },
  {
   "metadata": {
    "ExecuteTime": {
     "end_time": "2024-10-02T15:25:09.339865Z",
     "start_time": "2024-10-02T15:25:09.289431Z"
    }
   },
   "cell_type": "code",
   "source": [
    "with ds as model:\n",
    "    print(get_biomass_mass(model))"
   ],
   "id": "c324907054e34c51",
   "outputs": [
    {
     "name": "stdout",
     "output_type": "stream",
     "text": [
      "(1.0, {'C': 41.046741636607, 'N': 2.673410321119998, 'O': 24.25714048636098, 'P': 0.164123657955, 'S': 0.11786302034000001, 'H': 70.83444046164595})\n"
     ]
    }
   ],
   "execution_count": 17
  },
  {
   "metadata": {
    "ExecuteTime": {
     "end_time": "2024-10-02T15:25:09.381593Z",
     "start_time": "2024-10-02T15:25:09.339865Z"
    }
   },
   "cell_type": "code",
   "source": [
    "with ng as model:\n",
    "    print(get_biomass_mass(model, lipid_subreactions = [model.reactions.e_TAG__lip,\n",
    "                                  model.reactions.e_DAG__er, model.reactions.e_DGTS__er, model.reactions.e_PE__cytop, model.reactions.e_PC__cytop,\n",
    "                                  model.reactions.e_PI__er, model.reactions.e_PG__chlo, model.reactions.e_DGDG__chlo,\n",
    "                                  model.reactions.e_SQDG__chlo, model.reactions.e_MGDG__chlo,\n",
    "                                  model.reactions.e_FFA__cytop]))"
   ],
   "id": "e660f6d74311d889",
   "outputs": [
    {
     "name": "stdout",
     "output_type": "stream",
     "text": [
      "(1.0, {'C': 47.90925413888436, 'N': 4.416792197965998, 'O': 16.7169650196912, 'P': 0.18329774688128508, 'S': 0.14998947177422908, 'H': 83.180140610974})\n"
     ]
    }
   ],
   "execution_count": 18
  },
  {
   "metadata": {
    "ExecuteTime": {
     "end_time": "2024-10-02T15:25:09.451710Z",
     "start_time": "2024-10-02T15:25:09.384131Z"
    }
   },
   "cell_type": "code",
   "source": [
    "with pl as model:\n",
    "    print(get_biomass_mass(model, lipid_subreactions = [model.reactions.e_TAG__lip,\n",
    "                                  model.reactions.e_DAG__er, model.reactions.e_PE__cytop, model.reactions.e_PC__cytop,\n",
    "                                 model.reactions.e_PG__chlo, model.reactions.e_DGDG__chlo, model.reactions.e_DGCC__er, model.reactions.e_DGGA__er, model.reactions.e_DGTA__er,\n",
    "                                  model.reactions.e_SQDG__chlo, model.reactions.e_MGDG__chlo, model.reactions.e_CER__er, model.reactions.e_MAG__er, model.reactions.e_CL__mito,\n",
    "                                  model.reactions.e_FFA__cytop]))"
   ],
   "id": "a714201a9c5139e3",
   "outputs": [
    {
     "name": "stdout",
     "output_type": "stream",
     "text": [
      "(1.0, {'C': 46.34910192737527, 'N': 6.306337440855561, 'O': 16.496709429670307, 'P': 0.15532721241706854, 'S': 0.1660918813641648, 'H': 79.6018102101393})\n"
     ]
    }
   ],
   "execution_count": 19
  }
 ],
 "metadata": {
  "kernelspec": {
   "display_name": "Python 3",
   "language": "python",
   "name": "python3"
  },
  "language_info": {
   "codemirror_mode": {
    "name": "ipython",
    "version": 2
   },
   "file_extension": ".py",
   "mimetype": "text/x-python",
   "name": "python",
   "nbconvert_exporter": "python",
   "pygments_lexer": "ipython2",
   "version": "2.7.6"
  }
 },
 "nbformat": 4,
 "nbformat_minor": 5
}
