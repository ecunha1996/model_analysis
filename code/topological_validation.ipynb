{
 "cells": [
  {
   "cell_type": "code",
   "id": "initial_id",
   "metadata": {
    "collapsed": true,
    "ExecuteTime": {
     "end_time": "2024-09-27T16:17:53.482671Z",
     "start_time": "2024-09-27T16:17:50.737730Z"
    }
   },
   "source": [
    "from gsmmutils import ModelValidator, MyModel\n",
    "import gsmmutils\n",
    "from gsmmutils.utils.utils import  get_biomass_mass\n",
    "gsmmutils.model.model_validator.DATA_PATH =  \"../results\"\n",
    "import seaborn as sns\n",
    "from os.path import join\n",
    "sns.set(rc={'figure.figsize':(35,8.27)})\n",
    "DATA_PATH = r\"C:\\Users\\Bisbii\\PythonProjects\\GSMMutils\\data\""
   ],
   "outputs": [],
   "execution_count": 1
  },
  {
   "metadata": {
    "ExecuteTime": {
     "end_time": "2024-09-27T16:18:14.022973Z",
     "start_time": "2024-09-27T16:17:53.483674Z"
    }
   },
   "cell_type": "code",
   "source": [
    "ng = MyModel(join(DATA_PATH, 'models/model_ng.xml'), 'e_Biomass__cytop')\n",
    "print(str(ng.slim_optimize()) + \"\\n##################\\n\")\n",
    "ds = MyModel(join(DATA_PATH, 'models/model_ds.xml'), 'e_Biomass__cytop')\n",
    "print(str(ds.slim_optimize())+ \"\\n##################\\n\")\n",
    "pl = MyModel(join(DATA_PATH, 'models/model_pl.xml'), 'e_Biomass__cytop')\n",
    "print(str(pl.slim_optimize())+ \"\\n##################\\n\")"
   ],
   "id": "9ac00989ac6bfdd2",
   "outputs": [
    {
     "name": "stdout",
     "output_type": "stream",
     "text": [
      "Loading\n",
      "\n",
      "Set parameter Username\n",
      "Academic license - for non-commercial use only - expires 2025-07-15\n",
      "Reactions: 4485\n",
      "Metabolites: 3793\n",
      "Genes: 1333\n",
      "Model loaded\n",
      "0.03018240959422793\n",
      "##################\n",
      "\n",
      "Loading\n",
      "\n",
      "Reactions: 4514\n",
      "Metabolites: 3680\n",
      "Genes: 1699\n",
      "Model loaded\n",
      "0.20061690015141084\n",
      "##################\n",
      "\n",
      "Loading\n",
      "\n",
      "Reactions: 4740\n",
      "Metabolites: 4182\n",
      "Genes: 1353\n",
      "Model loaded\n",
      "0.7966572816706262\n",
      "##################\n",
      "\n"
     ]
    }
   ],
   "execution_count": 2
  },
  {
   "metadata": {
    "ExecuteTime": {
     "end_time": "2024-08-28T11:08:49.965049Z",
     "start_time": "2024-08-28T11:07:07.855823Z"
    }
   },
   "cell_type": "code",
   "source": [
    "mv = ModelValidator(ng, \"ATPm__cytop\")\n",
    "# mv.validate()\n",
    "mv.check_reactions_equal_metabolites()\n",
    "mv.check_balance()\n",
    "mv.old_model = mv.model.copy()\n",
    "mv.check_energy_producing_cycles()"
   ],
   "id": "1201e1be07bef2e7",
   "outputs": [
    {
     "name": "stdout",
     "output_type": "stream",
     "text": [
      "Reactions ATPm__cytop and R00086__cytop are equal!\n",
      "Mass balance: NOT OK\n",
      "SK_C03021__er {'C': -5.0, 'H': -7.0, 'N': -3.0, 'O': -3.0, 'An': -2.0}\n",
      "Read LP format model from file C:\\Users\\Bisbii\\AppData\\Local\\Temp\\tmph_vcng51.lp\n",
      "Reading time = 0.04 seconds\n",
      ": 3793 rows, 8970 columns, 38970 nonzeros\n",
      "Energy cycles: OK\n"
     ]
    },
    {
     "data": {
      "text/plain": [
       "{}"
      ]
     },
     "execution_count": 3,
     "metadata": {},
     "output_type": "execute_result"
    }
   ],
   "execution_count": 3
  },
  {
   "metadata": {
    "ExecuteTime": {
     "end_time": "2024-08-28T11:10:30.002790Z",
     "start_time": "2024-08-28T11:08:49.966017Z"
    }
   },
   "cell_type": "code",
   "source": [
    "mv = ModelValidator(ds, \"ATPm__cytop\")\n",
    "# mv.validate()\n",
    "mv.check_reactions_equal_metabolites()\n",
    "mv.check_balance()\n",
    "mv.old_model = mv.model.copy()\n",
    "mv.check_energy_producing_cycles()"
   ],
   "id": "8c005e58e3c3037c",
   "outputs": [
    {
     "name": "stdout",
     "output_type": "stream",
     "text": [
      "Reactions BMGR2207__er and BMGR2208__er are equal!\n",
      "Reactions ATPm__cytop and R00086__cytop are equal!\n",
      "Reactions BMGR1507__er and BMGR1493__er are equal!\n",
      "Mass balance: NOT OK\n",
      "SK_C03021__chlo {'C': -5.0, 'H': -7.0, 'N': -3.0, 'O': -3.0, 'An': -2.0}\n",
      "Read LP format model from file C:\\Users\\Bisbii\\AppData\\Local\\Temp\\tmpj8rt2wqj.lp\n",
      "Reading time = 0.04 seconds\n",
      ": 3683 rows, 9042 columns, 39240 nonzeros\n",
      "Energy cycles: OK\n"
     ]
    },
    {
     "data": {
      "text/plain": [
       "{}"
      ]
     },
     "execution_count": 4,
     "metadata": {},
     "output_type": "execute_result"
    }
   ],
   "execution_count": 4
  },
  {
   "metadata": {
    "ExecuteTime": {
     "end_time": "2024-08-28T11:12:20.638002Z",
     "start_time": "2024-08-28T11:10:30.003789Z"
    }
   },
   "cell_type": "code",
   "source": [
    "mv = ModelValidator(pl, \"ATPm__cytop\")\n",
    "# mv.validate()\n",
    "mv.check_reactions_equal_metabolites()\n",
    "mv.check_balance()\n",
    "mv.old_model = mv.model.copy()\n",
    "mv.check_energy_producing_cycles()"
   ],
   "id": "1ef9cc77f79bc6d9",
   "outputs": [
    {
     "name": "stdout",
     "output_type": "stream",
     "text": [
      "Reactions ATPm__cytop and R00086__cytop are equal!\n",
      "Mass balance: NOT OK\n",
      "SK_C03021__er {'C': -5.0, 'H': -7.0, 'N': -3.0, 'O': -3.0, 'An': -2.0}\n",
      "Read LP format model from file C:\\Users\\Bisbii\\AppData\\Local\\Temp\\tmpkmdsmi49.lp\n",
      "Reading time = 0.04 seconds\n",
      ": 4180 rows, 9470 columns, 40644 nonzeros\n",
      "Energy cycles: OK\n"
     ]
    },
    {
     "data": {
      "text/plain": [
       "{}"
      ]
     },
     "execution_count": 5,
     "metadata": {},
     "output_type": "execute_result"
    }
   ],
   "execution_count": 5
  },
  {
   "metadata": {},
   "cell_type": "code",
   "source": [
    "mv_pl = ModelValidator(pl, \"ATPm__cytop\")\n",
    "mv_pl.validate()"
   ],
   "id": "f1db42d191516f2",
   "outputs": [],
   "execution_count": null
  },
  {
   "metadata": {},
   "cell_type": "code",
   "source": [
    "mv_ds = ModelValidator(ds, \"ATPm__cytop\")\n",
    "mv_ds.validate()"
   ],
   "id": "c47c81013717fc2b",
   "outputs": [],
   "execution_count": null
  },
  {
   "metadata": {},
   "cell_type": "code",
   "outputs": [],
   "execution_count": null,
   "source": [
    "with ds as model:\n",
    "    print(get_biomass_mass(model))"
   ],
   "id": "c324907054e34c51"
  },
  {
   "metadata": {
    "ExecuteTime": {
     "end_time": "2024-09-27T16:18:14.053973Z",
     "start_time": "2024-09-27T16:18:14.024942Z"
    }
   },
   "cell_type": "code",
   "source": [
    "with ng as model:\n",
    "    print(get_biomass_mass(model, lipid_subreactions = [model.reactions.e_TAG__lip,\n",
    "                                  model.reactions.e_DAG__er, model.reactions.e_DGTS__er, model.reactions.e_PE__cytop, model.reactions.e_PC__cytop,\n",
    "                                  model.reactions.e_PI__er, model.reactions.e_PG__chlo, model.reactions.e_DGDG__chlo,\n",
    "                                  model.reactions.e_SQDG__chlo, model.reactions.e_MGDG__chlo,\n",
    "                                  model.reactions.e_FFA__cytop]))"
   ],
   "id": "e660f6d74311d889",
   "outputs": [
    {
     "name": "stdout",
     "output_type": "stream",
     "text": [
      "(1.0, {'C': 47.90925413888436, 'N': 4.416792197965998, 'O': 16.7169650196912, 'P': 0.18329774688128508, 'S': 0.14998947177422908, 'H': 83.180140610974})\n"
     ]
    }
   ],
   "execution_count": 3
  },
  {
   "metadata": {
    "ExecuteTime": {
     "end_time": "2024-09-27T16:36:26.512394Z",
     "start_time": "2024-09-27T16:36:26.499396Z"
    }
   },
   "cell_type": "code",
   "source": "47.909*12.01/1000",
   "id": "931a6d199c898522",
   "outputs": [
    {
     "data": {
      "text/plain": [
       "0.57538709"
      ]
     },
     "execution_count": 14,
     "metadata": {},
     "output_type": "execute_result"
    }
   ],
   "execution_count": 14
  },
  {
   "metadata": {},
   "cell_type": "code",
   "outputs": [],
   "execution_count": null,
   "source": [
    "with pl as model:\n",
    "    print(get_biomass_mass(model, lipid_subreactions = [model.reactions.e_TAG__lip,\n",
    "                                  model.reactions.e_DAG__er, model.reactions.e_PE__cytop, model.reactions.e_PC__cytop,\n",
    "                                 model.reactions.e_PG__chlo, model.reactions.e_DGDG__chlo, model.reactions.e_DGCC__er, model.reactions.e_DGGA__er, model.reactions.e_DGTA__er,\n",
    "                                  model.reactions.e_SQDG__chlo, model.reactions.e_MGDG__chlo, model.reactions.e_CER__er, model.reactions.e_MAG__er, model.reactions.e_CL__mito,\n",
    "                                  model.reactions.e_FFA__cytop]))"
   ],
   "id": "a714201a9c5139e3"
  }
 ],
 "metadata": {
  "kernelspec": {
   "display_name": "Python 3",
   "language": "python",
   "name": "python3"
  },
  "language_info": {
   "codemirror_mode": {
    "name": "ipython",
    "version": 2
   },
   "file_extension": ".py",
   "mimetype": "text/x-python",
   "name": "python",
   "nbconvert_exporter": "python",
   "pygments_lexer": "ipython2",
   "version": "2.7.6"
  }
 },
 "nbformat": 4,
 "nbformat_minor": 5
}
