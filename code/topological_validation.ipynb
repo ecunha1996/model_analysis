{
 "cells": [
  {
   "cell_type": "code",
   "id": "initial_id",
   "metadata": {
    "collapsed": true,
    "ExecuteTime": {
     "end_time": "2024-06-03T15:28:41.654020Z",
     "start_time": "2024-06-03T15:28:41.633977Z"
    }
   },
   "source": [
    "from gsmmutils import ModelValidator, MyModel\n",
    "import gsmmutils\n",
    "gsmmutils.model.model_validator.DATA_PATH =  \"../results\"\n",
    "import seaborn as sns\n",
    "from gsmmutils import DATA_PATH\n",
    "gsmmutils.DATA_PATH = r\"C:\\Users\\Bisbii\\PythonProjects\\GSMMutils\\data\"\n",
    "from os.path import join\n",
    "import matplotlib.pyplot as plt\n",
    "sns.set(rc={'figure.figsize':(35,8.27)})"
   ],
   "outputs": [],
   "execution_count": 3
  },
  {
   "metadata": {
    "ExecuteTime": {
     "end_time": "2024-06-03T15:28:50.233551Z",
     "start_time": "2024-06-03T15:28:42.659993Z"
    }
   },
   "cell_type": "code",
   "source": [
    "ng = MyModel(join(DATA_PATH, 'models/model_ng.xml'), 'e_Biomass__cytop')\n",
    "print(ng.slim_optimize())\n",
    "ds = MyModel(join(DATA_PATH, 'models/model_ds.xml'), 'e_Biomass__cytop')\n",
    "print(ds.slim_optimize())\n",
    "pl = MyModel(join(DATA_PATH, 'models/model_pl.xml'), 'e_Biomass__cytop')\n",
    "print(pl.slim_optimize())"
   ],
   "id": "9ac00989ac6bfdd2",
   "outputs": [
    {
     "name": "stdout",
     "output_type": "stream",
     "text": [
      "Loading\n",
      "\n",
      "Reactions: 4555\n",
      "Metabolites: 3682\n",
      "Genes: 1695\n",
      "Model loaded\n",
      "0.1937600881803378\n"
     ]
    }
   ],
   "execution_count": 4
  },
  {
   "metadata": {
    "ExecuteTime": {
     "end_time": "2024-06-03T13:56:12.409199Z",
     "start_time": "2024-06-03T13:28:10.246329Z"
    }
   },
   "cell_type": "code",
   "source": [
    "mv = ModelValidator(ng, \"ATPm__cytop\")\n",
    "mv.validate()"
   ],
   "id": "1201e1be07bef2e7",
   "outputs": [
    {
     "name": "stdout",
     "output_type": "stream",
     "text": [
      "Reactions ATPm__cytop and R00086__cytop are equal!\n",
      "Mass balance: NOT OK\n",
      "SK_C03021__er {'C': -5.0, 'H': -7.0, 'N': -3.0, 'O': -3.0, 'An': -2.0}\n",
      "Energy cycles: OK\n",
      "Biomass production OK: 0.021383004132942397\n",
      "Objective\n",
      "=========\n",
      "1.0 e_Biomass__cytop = 0.021383004132942397\n",
      "\n",
      "Uptake\n",
      "------\n",
      "  Metabolite       Reaction      Flux  C-Number  C-Flux\n",
      "C00001__extr EX_C00001__dra    0.8065         0   0.00%\n",
      "C00009__extr EX_C00009__dra  0.003836         0   0.00%\n",
      "C00011__extr EX_C00011__dra         1         1 100.00%\n",
      "C00059__extr EX_C00059__dra  0.003122         0   0.00%\n",
      "C00205__extr EX_C00205__dra     13.58         0   0.00%\n",
      "C00244__extr EX_C00244__dra    0.1032         0   0.00%\n",
      "C00305__extr EX_C00305__dra 0.0003993         0   0.00%\n",
      "C01330__extr EX_C01330__dra  0.006958         0   0.00%\n",
      "C06232__extr EX_C06232__dra 2.114E-07         0   0.00%\n",
      "C14818__extr EX_C14818__dra  1.57E-07         0   0.00%\n",
      "\n",
      "Secretion\n",
      "---------\n",
      "      Metabolite           Reaction       Flux  C-Number  C-Flux\n",
      "    C01330__vacu    DM_C01330__vacu  -0.006958         0   0.00%\n",
      " photon646__chlo DM_photon646__chlo     -3.607         0   0.00%\n",
      " photon680__chlo DM_photon680__chlo    -0.8848         0   0.00%\n",
      "    C00007__extr     EX_C00007__dra     -1.449         0   0.00%\n",
      "    C00027__extr     EX_C00027__dra    -0.0012         0   0.00%\n",
      "    C00237__extr     EX_C00237__dra -2.214E-07         1 100.00%\n",
      "e_Biomass__cytop  EX_e_Biomass__dra   -0.02138         0   0.00%\n",
      "\n",
      "Blocked reactions: 1048 -> (23.0%)\n",
      "Running fastcc...\n"
     ]
    },
    {
     "name": "stderr",
     "output_type": "stream",
     "text": [
      "C:\\Users\\Bisbii\\mambaforge-pypy3\\envs\\model_analysis\\lib\\site-packages\\cobra\\core\\group.py:147: UserWarning: need to pass in a list\n",
      "  warn(\"need to pass in a list\")\n"
     ]
    },
    {
     "name": "stdout",
     "output_type": "stream",
     "text": [
      "Consistent reactions:  3239\n",
      "Inconsistent reactions:  1269\n",
      "Reactions with Unbounded flux: 74 -> (2.0%)\n",
      "                         minimum      maximum\n",
      "R00243__mito        -1000.000000  1000.000000\n",
      "R01731__chlo        -1000.000000     0.155734\n",
      "T_FA183tr__ermem       -2.545565     0.000132\n",
      "BMGR4850__chlomem      -0.616387     0.000022\n",
      "R00372__cytop          -1.539328     0.000022\n",
      "...                          ...          ...\n",
      "BMGR5673__er           -2.542282     0.000015\n",
      "R00206__cytop          -4.151208     0.000015\n",
      "R00342__cytop       -1000.000000     0.000015\n",
      "TR2000137tm__mitmem -1000.000000     0.000015\n",
      "T_H2O2tx__permem       -1.532989     0.000015\n",
      "\n",
      "[74 rows x 2 columns]\n",
      "SBC: 76 -> (2.0%)\n"
     ]
    }
   ],
   "execution_count": 13
  },
  {
   "metadata": {
    "ExecuteTime": {
     "end_time": "2024-06-03T14:19:27.524950Z",
     "start_time": "2024-06-03T13:56:58.510572Z"
    }
   },
   "cell_type": "code",
   "source": [
    "mv_pl = ModelValidator(pl, \"ATPm__cytop\")\n",
    "mv_pl.validate()"
   ],
   "id": "f1db42d191516f2",
   "outputs": [
    {
     "name": "stdout",
     "output_type": "stream",
     "text": [
      "Reactions ATPm__cytop and R00086__cytop are equal!\n",
      "Mass balance: NOT OK\n",
      "SK_C03021__er {'C': -5.0, 'H': -7.0, 'N': -3.0, 'O': -3.0, 'An': -2.0}\n",
      "R01333__mito {'H': -1.0}\n",
      "Energy cycles: OK\n",
      "Biomass production OK: 1.0774072320704589\n",
      "Objective\n",
      "=========\n",
      "1.0 e_Biomass__cytop = 1.0774072320704589\n",
      "\n",
      "Uptake\n",
      "------\n",
      "  Metabolite       Reaction      Flux  C-Number C-Flux\n",
      "C00001__extr EX_C00001__dra     67.04         0  0.00%\n",
      "C00009__extr EX_C00009__dra    0.2667         0  0.00%\n",
      "C00011__extr EX_C00011__dra     89.74         1 99.98%\n",
      "C00059__extr EX_C00059__dra     0.244         0  0.00%\n",
      "C00080__extr EX_C00080__dra     12.72         0  0.00%\n",
      "C00205__extr EX_C00205__dra      1000         0  0.00%\n",
      "C00244__extr EX_C00244__dra     7.279         0  0.00%\n",
      "C00305__extr EX_C00305__dra   0.02369         0  0.00%\n",
      "C02823__extr EX_C02823__dra 0.0002558        63  0.02%\n",
      "C14818__extr EX_C14818__dra  0.005253         0  0.00%\n",
      "\n",
      "Secretion\n",
      "---------\n",
      "      Metabolite           Reaction       Flux  C-Number C-Flux\n",
      " photon646__chlo DM_photon646__chlo     -265.7         0  0.00%\n",
      "  photon680__lum  DM_photon680__lum     -65.17         0  0.00%\n",
      "    C00007__extr     EX_C00007__dra     -126.8         0  0.00%\n",
      "    C00177__extr     EX_C00177__dra -0.0002558         1 21.14%\n",
      "    C00237__extr     EX_C00237__dra -0.0009544         1 78.86%\n",
      "e_Biomass__cytop  EX_e_Biomass__dra     -1.077         0  0.00%\n",
      "\n",
      "Blocked reactions: 1048 -> (22.0%)\n",
      "Running fastcc...\n"
     ]
    },
    {
     "name": "stderr",
     "output_type": "stream",
     "text": [
      "C:\\Users\\Bisbii\\mambaforge-pypy3\\envs\\model_analysis\\lib\\site-packages\\cobra\\core\\group.py:147: UserWarning: need to pass in a list\n",
      "  warn(\"need to pass in a list\")\n"
     ]
    },
    {
     "name": "stdout",
     "output_type": "stream",
     "text": [
      "Consistent reactions:  3647\n",
      "Inconsistent reactions:  1119\n",
      "Reactions with Unbounded flux: 115 -> (2.0%)\n",
      "                          minimum      maximum\n",
      "R00243__mito          -729.991977  1000.000000\n",
      "R01731__chlo            -0.184139   999.930347\n",
      "TO1000322th__chlomem -1000.000000  1000.000000\n",
      "TR0000048t__plas        -0.244005  1000.000000\n",
      "R00112__chlo         -1000.000000  1000.000000\n",
      "...                           ...          ...\n",
      "R01956__cytop        -1000.000000  1000.000000\n",
      "R00355__cytop        -1000.000000  1000.000000\n",
      "TZ2900048t__plas      -499.999872   500.000128\n",
      "T_NADHtr__ermem         -0.091223     1.038025\n",
      "T_3MOPtm__mitmem     -1000.000000   726.822021\n",
      "\n",
      "[115 rows x 2 columns]\n",
      "SBC: 90 -> (2.0%)\n"
     ]
    }
   ],
   "execution_count": 14
  },
  {
   "metadata": {
    "ExecuteTime": {
     "end_time": "2024-06-03T15:50:12.409091Z",
     "start_time": "2024-06-03T15:28:56.102278Z"
    }
   },
   "cell_type": "code",
   "source": [
    "mv_ds = ModelValidator(ds, \"ATPm__cytop\")\n",
    "mv_ds.validate()"
   ],
   "id": "c47c81013717fc2b",
   "outputs": [
    {
     "name": "stdout",
     "output_type": "stream",
     "text": [
      "Reactions BMGR2207__er and BMGR2208__er are equal!\n",
      "Reactions ATPm__cytop and R00086__cytop are equal!\n",
      "Reactions BMGR1507__er and BMGR1493__er are equal!\n",
      "Mass balance: NOT OK\n",
      "SK_C03021__chlo {'C': -5.0, 'H': -7.0, 'N': -3.0, 'O': -3.0, 'An': -2.0}\n",
      "Energy cycles: OK\n",
      "Biomass production OK: 0.19376008818033658\n",
      "Objective\n",
      "=========\n",
      "1.0 e_Biomass__cytop = 0.19376008818033658\n",
      "\n",
      "Uptake\n",
      "------\n",
      "  Metabolite       Reaction      Flux  C-Number C-Flux\n",
      "C00001__extr EX_C00001__dra     6.568         0  0.00%\n",
      "C00009__extr EX_C00009__dra   0.03078         0  0.00%\n",
      "C00011__extr EX_C00011__dra         8         1 99.91%\n",
      "C00059__extr EX_C00059__dra   0.02176         0  0.00%\n",
      "C00080__extr EX_C00080__dra   0.05323         0  0.00%\n",
      "C00205__extr EX_C00205__dra     72.37         0  0.00%\n",
      "C00244__extr EX_C00244__dra     0.507         0  0.00%\n",
      "C00305__extr EX_C00305__dra 0.0002088         0  0.00%\n",
      "C02823__extr EX_C02823__dra 0.0001183        63  0.09%\n",
      "C14818__extr EX_C14818__dra  0.002429         0  0.00%\n",
      "\n",
      "Secretion\n",
      "---------\n",
      "      Metabolite            Reaction       Flux  C-Number C-Flux\n",
      "photon298__cytop DM_photon298__cytop -3.029E-05         0  0.00%\n",
      " photon450__chlo  DM_photon450__chlo -0.0002346         0  0.00%\n",
      " photon646__chlo  DM_photon646__chlo     -19.23         0  0.00%\n",
      "  photon680__lum   DM_photon680__lum     -6.267         0  0.00%\n",
      "    C00007__extr      EX_C00007__dra     -9.952         0  0.00%\n",
      "    C00177__extr      EX_C00177__dra -0.0001183         1 21.14%\n",
      "    C00237__extr      EX_C00237__dra -0.0004413         1 78.86%\n",
      "\n",
      "Blocked reactions: 838 -> (18.0%)\n",
      "Running fastcc...\n"
     ]
    },
    {
     "name": "stderr",
     "output_type": "stream",
     "text": [
      "C:\\Users\\Bisbii\\mambaforge-pypy3\\envs\\model_analysis\\lib\\site-packages\\cobra\\core\\group.py:147: UserWarning: need to pass in a list\n",
      "  warn(\"need to pass in a list\")\n"
     ]
    },
    {
     "name": "stdout",
     "output_type": "stream",
     "text": [
      "Consistent reactions:  3571\n",
      "Inconsistent reactions:  984\n",
      "Reactions with Unbounded flux: 279 -> (6.0%)\n",
      "                       minimum      maximum\n",
      "R00658__cytop      -224.780370   220.074556\n",
      "R00243__mito      -1000.000000  1000.000000\n",
      "BMGR5732__er       -561.616507   280.808463\n",
      "R01731__chlo       -999.994287     0.013227\n",
      "BMGR4912__chlomem   -14.800924   160.462541\n",
      "...                        ...          ...\n",
      "BMGR4897__chlomem    -0.004581   160.463295\n",
      "R10092__chlo      -1000.000000   999.551889\n",
      "BMGR4874__chlomem   -14.800588   160.467093\n",
      "BMGR4814__ermem    -499.994238   108.237415\n",
      "T_MAL_Ltx__permem  -245.058522   355.174771\n",
      "\n",
      "[279 rows x 2 columns]\n",
      "SBC: 27 -> (1.0%)\n"
     ]
    }
   ],
   "execution_count": 5
  }
 ],
 "metadata": {
  "kernelspec": {
   "display_name": "Python 3",
   "language": "python",
   "name": "python3"
  },
  "language_info": {
   "codemirror_mode": {
    "name": "ipython",
    "version": 2
   },
   "file_extension": ".py",
   "mimetype": "text/x-python",
   "name": "python",
   "nbconvert_exporter": "python",
   "pygments_lexer": "ipython2",
   "version": "2.7.6"
  }
 },
 "nbformat": 4,
 "nbformat_minor": 5
}
