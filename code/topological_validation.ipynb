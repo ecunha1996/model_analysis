{
 "cells": [
  {
   "cell_type": "code",
   "id": "initial_id",
   "metadata": {
    "collapsed": true,
    "ExecuteTime": {
     "end_time": "2024-06-11T10:55:47.388778Z",
     "start_time": "2024-06-11T10:55:47.372829Z"
    }
   },
   "source": [
    "from gsmmutils import ModelValidator, MyModel\n",
    "import gsmmutils\n",
    "gsmmutils.model.model_validator.DATA_PATH =  \"../results\"\n",
    "import seaborn as sns\n",
    "from gsmmutils import DATA_PATH\n",
    "gsmmutils.DATA_PATH = r\"C:\\Users\\Bisbii\\PythonProjects\\GSMMutils\\data\"\n",
    "from os.path import join\n",
    "import matplotlib.pyplot as plt\n",
    "sns.set(rc={'figure.figsize':(35,8.27)})"
   ],
   "outputs": [],
   "execution_count": 4
  },
  {
   "metadata": {
    "ExecuteTime": {
     "end_time": "2024-06-11T10:56:12.886763Z",
     "start_time": "2024-06-11T10:55:48.952746Z"
    }
   },
   "cell_type": "code",
   "source": [
    "ng = MyModel(join(DATA_PATH, 'models/model_ng.xml'), 'e_Biomass__cytop')\n",
    "print(ng.slim_optimize())\n",
    "ds = MyModel(join(DATA_PATH, 'models/model_ds.xml'), 'e_Biomass__cytop')\n",
    "print(ds.slim_optimize())\n",
    "pl = MyModel(join(DATA_PATH, 'models/model_pl.xml'), 'e_Biomass__cytop')\n",
    "print(pl.slim_optimize())"
   ],
   "id": "9ac00989ac6bfdd2",
   "outputs": [
    {
     "name": "stdout",
     "output_type": "stream",
     "text": [
      "Loading\n",
      "\n",
      "Reactions: 4498\n",
      "Metabolites: 3799\n",
      "Genes: 1332\n",
      "Model loaded\n",
      "0.021383004132942383\n",
      "Loading\n",
      "\n",
      "Reactions: 4510\n",
      "Metabolites: 3668\n",
      "Genes: 1696\n",
      "Model loaded\n",
      "0.1937600881803378\n",
      "Loading\n",
      "\n",
      "Reactions: 4771\n",
      "Metabolites: 4216\n",
      "Genes: 1350\n",
      "Model loaded\n",
      "0.7026128822599356\n"
     ]
    }
   ],
   "execution_count": 5
  },
  {
   "metadata": {
    "jupyter": {
     "is_executing": true
    },
    "ExecuteTime": {
     "start_time": "2024-06-11T10:56:12.888771Z"
    }
   },
   "cell_type": "code",
   "source": [
    "mv = ModelValidator(ng, \"ATPm__cytop\")\n",
    "mv.validate()"
   ],
   "id": "1201e1be07bef2e7",
   "outputs": [],
   "execution_count": null
  },
  {
   "metadata": {
    "jupyter": {
     "is_executing": true
    }
   },
   "cell_type": "code",
   "source": [
    "mv_pl = ModelValidator(pl, \"ATPm__cytop\")\n",
    "mv_pl.validate()"
   ],
   "id": "f1db42d191516f2",
   "outputs": [],
   "execution_count": null
  },
  {
   "metadata": {
    "jupyter": {
     "is_executing": true
    }
   },
   "cell_type": "code",
   "source": [
    "mv_ds = ModelValidator(ds, \"ATPm__cytop\")\n",
    "mv_ds.validate()"
   ],
   "id": "c47c81013717fc2b",
   "outputs": [],
   "execution_count": null
  }
 ],
 "metadata": {
  "kernelspec": {
   "display_name": "Python 3",
   "language": "python",
   "name": "python3"
  },
  "language_info": {
   "codemirror_mode": {
    "name": "ipython",
    "version": 2
   },
   "file_extension": ".py",
   "mimetype": "text/x-python",
   "name": "python",
   "nbconvert_exporter": "python",
   "pygments_lexer": "ipython2",
   "version": "2.7.6"
  }
 },
 "nbformat": 4,
 "nbformat_minor": 5
}
