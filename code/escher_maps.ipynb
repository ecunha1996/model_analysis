{
 "cells": [
  {
   "cell_type": "code",
   "execution_count": null,
   "id": "09ec905c-9bc1-4534-ad2a-8a84be0e8e00",
   "metadata": {},
   "outputs": [],
   "source": []
  }
 ],
 "metadata": {
  "kernelspec": {
   "display_name": "",
   "name": ""
  },
  "language_info": {
   "name": ""
  }
 },
 "nbformat": 4,
 "nbformat_minor": 5
}
